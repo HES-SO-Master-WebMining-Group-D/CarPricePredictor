{
 "cells": [
  {
   "cell_type": "markdown",
   "metadata": {},
   "source": [
    "# AutoscoutDataAnalysis"
   ]
  },
  {
   "cell_type": "markdown",
   "metadata": {},
   "source": [
    "## Descriptive statistics: correlation analysis between features and target values"
   ]
  },
  {
   "cell_type": "markdown",
   "metadata": {},
   "source": [
    "## Authors : \n",
    "- Mozerski Alex\n",
    "- Fraile Diego\n",
    "- Spycher Damian"
   ]
  },
  {
   "cell_type": "markdown",
   "metadata": {},
   "source": [
    "### Imports"
   ]
  },
  {
   "cell_type": "code",
   "execution_count": 50,
   "metadata": {},
   "outputs": [],
   "source": [
    "import pandas as pd\n",
    "import matplotlib.pyplot as plt\n",
    "import seaborn as sns\n",
    "import os\n",
    "import numpy as np\n",
    "import networkx as nx\n",
    "import ipywidgets as widgets\n",
    "from IPython.display import display, clear_output"
   ]
  },
  {
   "cell_type": "markdown",
   "metadata": {},
   "source": [
    "### Constant"
   ]
  },
  {
   "cell_type": "code",
   "execution_count": 51,
   "metadata": {},
   "outputs": [],
   "source": [
    "DATA_FILE = os.path.join(os.getcwd(), 'cleaned_cars.csv')"
   ]
  },
  {
   "cell_type": "markdown",
   "metadata": {},
   "source": [
    "### Data Loading"
   ]
  },
  {
   "cell_type": "code",
   "execution_count": 54,
   "metadata": {},
   "outputs": [],
   "source": [
    "df = pd.read_csv(DATA_FILE, header=[0], index_col=0)\n"
   ]
  },
  {
   "cell_type": "markdown",
   "metadata": {},
   "source": [
    "### Overview of the dataset"
   ]
  },
  {
   "cell_type": "code",
   "execution_count": 55,
   "metadata": {},
   "outputs": [
    {
     "data": {
      "text/html": [
       "<div>\n",
       "<style scoped>\n",
       "    .dataframe tbody tr th:only-of-type {\n",
       "        vertical-align: middle;\n",
       "    }\n",
       "\n",
       "    .dataframe tbody tr th {\n",
       "        vertical-align: top;\n",
       "    }\n",
       "\n",
       "    .dataframe thead th {\n",
       "        text-align: right;\n",
       "    }\n",
       "</style>\n",
       "<table border=\"1\" class=\"dataframe\">\n",
       "  <thead>\n",
       "    <tr style=\"text-align: right;\">\n",
       "      <th></th>\n",
       "      <th>brand</th>\n",
       "      <th>model</th>\n",
       "      <th>price</th>\n",
       "      <th>mileage</th>\n",
       "      <th>fuel_type</th>\n",
       "      <th>color</th>\n",
       "      <th>gearbox</th>\n",
       "      <th>power</th>\n",
       "      <th>engine_size</th>\n",
       "      <th>seller</th>\n",
       "      <th>body_type</th>\n",
       "      <th>doors</th>\n",
       "      <th>seats</th>\n",
       "      <th>drivetrain</th>\n",
       "      <th>emission_class</th>\n",
       "      <th>condition</th>\n",
       "      <th>upholstery</th>\n",
       "      <th>upholstery_color</th>\n",
       "      <th>year</th>\n",
       "      <th>country</th>\n",
       "    </tr>\n",
       "    <tr>\n",
       "      <th>url</th>\n",
       "      <th></th>\n",
       "      <th></th>\n",
       "      <th></th>\n",
       "      <th></th>\n",
       "      <th></th>\n",
       "      <th></th>\n",
       "      <th></th>\n",
       "      <th></th>\n",
       "      <th></th>\n",
       "      <th></th>\n",
       "      <th></th>\n",
       "      <th></th>\n",
       "      <th></th>\n",
       "      <th></th>\n",
       "      <th></th>\n",
       "      <th></th>\n",
       "      <th></th>\n",
       "      <th></th>\n",
       "      <th></th>\n",
       "      <th></th>\n",
       "    </tr>\n",
       "  </thead>\n",
       "  <tbody>\n",
       "    <tr>\n",
       "      <th>https://www.autoscout24.com/offers/alfa-romeo-159-berlina-2-0-jtdm-super-diesel-red-7140b39f-39f8-4707-833e-3ac1344299b2</th>\n",
       "      <td>alfa romeo</td>\n",
       "      <td>159</td>\n",
       "      <td>5500.0</td>\n",
       "      <td>233685.0</td>\n",
       "      <td>diesel</td>\n",
       "      <td>red</td>\n",
       "      <td>manual</td>\n",
       "      <td>136.0</td>\n",
       "      <td>1956.0</td>\n",
       "      <td>dealer</td>\n",
       "      <td>sedan</td>\n",
       "      <td>4.0</td>\n",
       "      <td>5.0</td>\n",
       "      <td>front</td>\n",
       "      <td>134.0</td>\n",
       "      <td>used</td>\n",
       "      <td>grey</td>\n",
       "      <td>NaN</td>\n",
       "      <td>2011.0</td>\n",
       "      <td>it</td>\n",
       "    </tr>\n",
       "    <tr>\n",
       "      <th>https://www.autoscout24.com/offers/alfa-romeo-159-1-8-tbi-elegante-gasoline-red-edd10d3e-53b3-4201-9d2b-73216507df12</th>\n",
       "      <td>alfa romeo</td>\n",
       "      <td>159</td>\n",
       "      <td>13990.0</td>\n",
       "      <td>134000.0</td>\n",
       "      <td>gasoline</td>\n",
       "      <td>red</td>\n",
       "      <td>manual</td>\n",
       "      <td>200.0</td>\n",
       "      <td>1742.0</td>\n",
       "      <td>dealer</td>\n",
       "      <td>sedan</td>\n",
       "      <td>4.0</td>\n",
       "      <td>5.0</td>\n",
       "      <td>front</td>\n",
       "      <td>NaN</td>\n",
       "      <td>used</td>\n",
       "      <td>NaN</td>\n",
       "      <td>NaN</td>\n",
       "      <td>2010.0</td>\n",
       "      <td>es</td>\n",
       "    </tr>\n",
       "    <tr>\n",
       "      <th>https://www.autoscout24.com/offers/renault-others-dauphin-gasoline-yellow-762bffc3-b9b0-4c4b-b14d-f066356eb926</th>\n",
       "      <td>renault</td>\n",
       "      <td>unknown</td>\n",
       "      <td>2300.0</td>\n",
       "      <td>27000.0</td>\n",
       "      <td>gasoline</td>\n",
       "      <td>yellow</td>\n",
       "      <td>manual</td>\n",
       "      <td>80.0</td>\n",
       "      <td>800.0</td>\n",
       "      <td>dealer</td>\n",
       "      <td>sedan</td>\n",
       "      <td>NaN</td>\n",
       "      <td>NaN</td>\n",
       "      <td>NaN</td>\n",
       "      <td>NaN</td>\n",
       "      <td>used</td>\n",
       "      <td>NaN</td>\n",
       "      <td>alcantara</td>\n",
       "      <td>1963.0</td>\n",
       "      <td>be</td>\n",
       "    </tr>\n",
       "    <tr>\n",
       "      <th>https://www.autoscout24.com/offers/opel-antara-2-4-16v-temptation-trekhaak-gasoline-black-09934fcb-5180-47e3-9c90-e1cdb6215977</th>\n",
       "      <td>opel</td>\n",
       "      <td>antara</td>\n",
       "      <td>3499.0</td>\n",
       "      <td>212575.0</td>\n",
       "      <td>gasoline</td>\n",
       "      <td>black</td>\n",
       "      <td>manual</td>\n",
       "      <td>140.0</td>\n",
       "      <td>2405.0</td>\n",
       "      <td>dealer</td>\n",
       "      <td>off-road/pick-up</td>\n",
       "      <td>5.0</td>\n",
       "      <td>5.0</td>\n",
       "      <td>4wd</td>\n",
       "      <td>229.0</td>\n",
       "      <td>used</td>\n",
       "      <td>NaN</td>\n",
       "      <td>metallic</td>\n",
       "      <td>2008.0</td>\n",
       "      <td>nl</td>\n",
       "    </tr>\n",
       "    <tr>\n",
       "      <th>https://www.autoscout24.com/offers/alfa-romeo-giulia-2-0-turbo-automatik-ti-q4-leder-navi-kamera-gasoline-white-7e452f2c-a446-4b1d-a072-20462e8d2d2b</th>\n",
       "      <td>alfa romeo</td>\n",
       "      <td>giulia</td>\n",
       "      <td>39800.0</td>\n",
       "      <td>7100.0</td>\n",
       "      <td>gasoline</td>\n",
       "      <td>white</td>\n",
       "      <td>automatic</td>\n",
       "      <td>280.0</td>\n",
       "      <td>1995.0</td>\n",
       "      <td>dealer</td>\n",
       "      <td>sedan</td>\n",
       "      <td>4.0</td>\n",
       "      <td>4.0</td>\n",
       "      <td>front</td>\n",
       "      <td>NaN</td>\n",
       "      <td>employee's car</td>\n",
       "      <td>full leather</td>\n",
       "      <td>black</td>\n",
       "      <td>2023.0</td>\n",
       "      <td>de</td>\n",
       "    </tr>\n",
       "  </tbody>\n",
       "</table>\n",
       "</div>"
      ],
      "text/plain": [
       "                                                         brand    model  \\\n",
       "url                                                                       \n",
       "https://www.autoscout24.com/offers/alfa-romeo-1...  alfa romeo      159   \n",
       "https://www.autoscout24.com/offers/alfa-romeo-1...  alfa romeo      159   \n",
       "https://www.autoscout24.com/offers/renault-othe...     renault  unknown   \n",
       "https://www.autoscout24.com/offers/opel-antara-...        opel   antara   \n",
       "https://www.autoscout24.com/offers/alfa-romeo-g...  alfa romeo   giulia   \n",
       "\n",
       "                                                      price   mileage  \\\n",
       "url                                                                     \n",
       "https://www.autoscout24.com/offers/alfa-romeo-1...   5500.0  233685.0   \n",
       "https://www.autoscout24.com/offers/alfa-romeo-1...  13990.0  134000.0   \n",
       "https://www.autoscout24.com/offers/renault-othe...   2300.0   27000.0   \n",
       "https://www.autoscout24.com/offers/opel-antara-...   3499.0  212575.0   \n",
       "https://www.autoscout24.com/offers/alfa-romeo-g...  39800.0    7100.0   \n",
       "\n",
       "                                                   fuel_type   color  \\\n",
       "url                                                                    \n",
       "https://www.autoscout24.com/offers/alfa-romeo-1...    diesel     red   \n",
       "https://www.autoscout24.com/offers/alfa-romeo-1...  gasoline     red   \n",
       "https://www.autoscout24.com/offers/renault-othe...  gasoline  yellow   \n",
       "https://www.autoscout24.com/offers/opel-antara-...  gasoline   black   \n",
       "https://www.autoscout24.com/offers/alfa-romeo-g...  gasoline   white   \n",
       "\n",
       "                                                      gearbox  power  \\\n",
       "url                                                                    \n",
       "https://www.autoscout24.com/offers/alfa-romeo-1...     manual  136.0   \n",
       "https://www.autoscout24.com/offers/alfa-romeo-1...     manual  200.0   \n",
       "https://www.autoscout24.com/offers/renault-othe...     manual   80.0   \n",
       "https://www.autoscout24.com/offers/opel-antara-...     manual  140.0   \n",
       "https://www.autoscout24.com/offers/alfa-romeo-g...  automatic  280.0   \n",
       "\n",
       "                                                    engine_size  seller  \\\n",
       "url                                                                       \n",
       "https://www.autoscout24.com/offers/alfa-romeo-1...       1956.0  dealer   \n",
       "https://www.autoscout24.com/offers/alfa-romeo-1...       1742.0  dealer   \n",
       "https://www.autoscout24.com/offers/renault-othe...        800.0  dealer   \n",
       "https://www.autoscout24.com/offers/opel-antara-...       2405.0  dealer   \n",
       "https://www.autoscout24.com/offers/alfa-romeo-g...       1995.0  dealer   \n",
       "\n",
       "                                                           body_type  doors  \\\n",
       "url                                                                           \n",
       "https://www.autoscout24.com/offers/alfa-romeo-1...             sedan    4.0   \n",
       "https://www.autoscout24.com/offers/alfa-romeo-1...             sedan    4.0   \n",
       "https://www.autoscout24.com/offers/renault-othe...             sedan    NaN   \n",
       "https://www.autoscout24.com/offers/opel-antara-...  off-road/pick-up    5.0   \n",
       "https://www.autoscout24.com/offers/alfa-romeo-g...             sedan    4.0   \n",
       "\n",
       "                                                    seats drivetrain  \\\n",
       "url                                                                    \n",
       "https://www.autoscout24.com/offers/alfa-romeo-1...    5.0      front   \n",
       "https://www.autoscout24.com/offers/alfa-romeo-1...    5.0      front   \n",
       "https://www.autoscout24.com/offers/renault-othe...    NaN        NaN   \n",
       "https://www.autoscout24.com/offers/opel-antara-...    5.0        4wd   \n",
       "https://www.autoscout24.com/offers/alfa-romeo-g...    4.0      front   \n",
       "\n",
       "                                                    emission_class  \\\n",
       "url                                                                  \n",
       "https://www.autoscout24.com/offers/alfa-romeo-1...           134.0   \n",
       "https://www.autoscout24.com/offers/alfa-romeo-1...             NaN   \n",
       "https://www.autoscout24.com/offers/renault-othe...             NaN   \n",
       "https://www.autoscout24.com/offers/opel-antara-...           229.0   \n",
       "https://www.autoscout24.com/offers/alfa-romeo-g...             NaN   \n",
       "\n",
       "                                                         condition  \\\n",
       "url                                                                  \n",
       "https://www.autoscout24.com/offers/alfa-romeo-1...            used   \n",
       "https://www.autoscout24.com/offers/alfa-romeo-1...            used   \n",
       "https://www.autoscout24.com/offers/renault-othe...            used   \n",
       "https://www.autoscout24.com/offers/opel-antara-...            used   \n",
       "https://www.autoscout24.com/offers/alfa-romeo-g...  employee's car   \n",
       "\n",
       "                                                      upholstery  \\\n",
       "url                                                                \n",
       "https://www.autoscout24.com/offers/alfa-romeo-1...          grey   \n",
       "https://www.autoscout24.com/offers/alfa-romeo-1...           NaN   \n",
       "https://www.autoscout24.com/offers/renault-othe...           NaN   \n",
       "https://www.autoscout24.com/offers/opel-antara-...           NaN   \n",
       "https://www.autoscout24.com/offers/alfa-romeo-g...  full leather   \n",
       "\n",
       "                                                   upholstery_color    year  \\\n",
       "url                                                                           \n",
       "https://www.autoscout24.com/offers/alfa-romeo-1...              NaN  2011.0   \n",
       "https://www.autoscout24.com/offers/alfa-romeo-1...              NaN  2010.0   \n",
       "https://www.autoscout24.com/offers/renault-othe...        alcantara  1963.0   \n",
       "https://www.autoscout24.com/offers/opel-antara-...         metallic  2008.0   \n",
       "https://www.autoscout24.com/offers/alfa-romeo-g...            black  2023.0   \n",
       "\n",
       "                                                   country  \n",
       "url                                                         \n",
       "https://www.autoscout24.com/offers/alfa-romeo-1...      it  \n",
       "https://www.autoscout24.com/offers/alfa-romeo-1...      es  \n",
       "https://www.autoscout24.com/offers/renault-othe...      be  \n",
       "https://www.autoscout24.com/offers/opel-antara-...      nl  \n",
       "https://www.autoscout24.com/offers/alfa-romeo-g...      de  "
      ]
     },
     "execution_count": 55,
     "metadata": {},
     "output_type": "execute_result"
    }
   ],
   "source": [
    "df.head()"
   ]
  },
  {
   "cell_type": "code",
   "execution_count": 56,
   "metadata": {},
   "outputs": [
    {
     "data": {
      "text/html": [
       "<div>\n",
       "<style scoped>\n",
       "    .dataframe tbody tr th:only-of-type {\n",
       "        vertical-align: middle;\n",
       "    }\n",
       "\n",
       "    .dataframe tbody tr th {\n",
       "        vertical-align: top;\n",
       "    }\n",
       "\n",
       "    .dataframe thead th {\n",
       "        text-align: right;\n",
       "    }\n",
       "</style>\n",
       "<table border=\"1\" class=\"dataframe\">\n",
       "  <thead>\n",
       "    <tr style=\"text-align: right;\">\n",
       "      <th></th>\n",
       "      <th>price</th>\n",
       "      <th>mileage</th>\n",
       "      <th>power</th>\n",
       "      <th>engine_size</th>\n",
       "      <th>doors</th>\n",
       "      <th>seats</th>\n",
       "      <th>emission_class</th>\n",
       "      <th>year</th>\n",
       "    </tr>\n",
       "  </thead>\n",
       "  <tbody>\n",
       "    <tr>\n",
       "      <th>count</th>\n",
       "      <td>1.542400e+04</td>\n",
       "      <td>1.524300e+04</td>\n",
       "      <td>15188.000000</td>\n",
       "      <td>13798.000000</td>\n",
       "      <td>11156.00000</td>\n",
       "      <td>14094.000000</td>\n",
       "      <td>9373.000000</td>\n",
       "      <td>14706.000000</td>\n",
       "    </tr>\n",
       "    <tr>\n",
       "      <th>mean</th>\n",
       "      <td>8.716821e+04</td>\n",
       "      <td>7.117497e+04</td>\n",
       "      <td>256.918357</td>\n",
       "      <td>2507.970938</td>\n",
       "      <td>4.28971</td>\n",
       "      <td>4.411310</td>\n",
       "      <td>165.180049</td>\n",
       "      <td>2015.442812</td>\n",
       "    </tr>\n",
       "    <tr>\n",
       "      <th>std</th>\n",
       "      <td>8.615921e+05</td>\n",
       "      <td>1.320222e+05</td>\n",
       "      <td>192.407035</td>\n",
       "      <td>1695.403824</td>\n",
       "      <td>1.12323</td>\n",
       "      <td>1.143213</td>\n",
       "      <td>93.675774</td>\n",
       "      <td>10.633694</td>\n",
       "    </tr>\n",
       "    <tr>\n",
       "      <th>min</th>\n",
       "      <td>1.000000e+00</td>\n",
       "      <td>0.000000e+00</td>\n",
       "      <td>1.000000</td>\n",
       "      <td>0.000000</td>\n",
       "      <td>2.00000</td>\n",
       "      <td>2.000000</td>\n",
       "      <td>0.000000</td>\n",
       "      <td>1923.000000</td>\n",
       "    </tr>\n",
       "    <tr>\n",
       "      <th>25%</th>\n",
       "      <td>1.499900e+04</td>\n",
       "      <td>1.800650e+04</td>\n",
       "      <td>122.000000</td>\n",
       "      <td>1496.000000</td>\n",
       "      <td>4.00000</td>\n",
       "      <td>4.000000</td>\n",
       "      <td>115.000000</td>\n",
       "      <td>2014.000000</td>\n",
       "    </tr>\n",
       "    <tr>\n",
       "      <th>50%</th>\n",
       "      <td>2.499000e+04</td>\n",
       "      <td>5.460400e+04</td>\n",
       "      <td>179.000000</td>\n",
       "      <td>1987.000000</td>\n",
       "      <td>5.00000</td>\n",
       "      <td>5.000000</td>\n",
       "      <td>139.000000</td>\n",
       "      <td>2019.000000</td>\n",
       "    </tr>\n",
       "    <tr>\n",
       "      <th>75%</th>\n",
       "      <td>4.690000e+04</td>\n",
       "      <td>1.024815e+05</td>\n",
       "      <td>326.000000</td>\n",
       "      <td>2993.000000</td>\n",
       "      <td>5.00000</td>\n",
       "      <td>5.000000</td>\n",
       "      <td>191.000000</td>\n",
       "      <td>2021.000000</td>\n",
       "    </tr>\n",
       "    <tr>\n",
       "      <th>max</th>\n",
       "      <td>1.000000e+08</td>\n",
       "      <td>9.999999e+06</td>\n",
       "      <td>1600.000000</td>\n",
       "      <td>67500.000000</td>\n",
       "      <td>5.00000</td>\n",
       "      <td>7.000000</td>\n",
       "      <td>2370.000000</td>\n",
       "      <td>2024.000000</td>\n",
       "    </tr>\n",
       "  </tbody>\n",
       "</table>\n",
       "</div>"
      ],
      "text/plain": [
       "              price       mileage         power   engine_size        doors  \\\n",
       "count  1.542400e+04  1.524300e+04  15188.000000  13798.000000  11156.00000   \n",
       "mean   8.716821e+04  7.117497e+04    256.918357   2507.970938      4.28971   \n",
       "std    8.615921e+05  1.320222e+05    192.407035   1695.403824      1.12323   \n",
       "min    1.000000e+00  0.000000e+00      1.000000      0.000000      2.00000   \n",
       "25%    1.499900e+04  1.800650e+04    122.000000   1496.000000      4.00000   \n",
       "50%    2.499000e+04  5.460400e+04    179.000000   1987.000000      5.00000   \n",
       "75%    4.690000e+04  1.024815e+05    326.000000   2993.000000      5.00000   \n",
       "max    1.000000e+08  9.999999e+06   1600.000000  67500.000000      5.00000   \n",
       "\n",
       "              seats  emission_class          year  \n",
       "count  14094.000000     9373.000000  14706.000000  \n",
       "mean       4.411310      165.180049   2015.442812  \n",
       "std        1.143213       93.675774     10.633694  \n",
       "min        2.000000        0.000000   1923.000000  \n",
       "25%        4.000000      115.000000   2014.000000  \n",
       "50%        5.000000      139.000000   2019.000000  \n",
       "75%        5.000000      191.000000   2021.000000  \n",
       "max        7.000000     2370.000000   2024.000000  "
      ]
     },
     "execution_count": 56,
     "metadata": {},
     "output_type": "execute_result"
    }
   ],
   "source": [
    "df.describe()"
   ]
  },
  {
   "cell_type": "code",
   "execution_count": 59,
   "metadata": {},
   "outputs": [
    {
     "name": "stdout",
     "output_type": "stream",
     "text": [
      "Missing data in each column:\n",
      "brand                  2\n",
      "model                  0\n",
      "price                  2\n",
      "mileage              183\n",
      "fuel_type             28\n",
      "color                112\n",
      "gearbox              403\n",
      "power                238\n",
      "engine_size         1628\n",
      "seller                 2\n",
      "body_type              2\n",
      "doors               4270\n",
      "seats               1332\n",
      "drivetrain          3892\n",
      "emission_class      6053\n",
      "condition              2\n",
      "upholstery          4418\n",
      "upholstery_color    3968\n",
      "year                 720\n",
      "country                4\n",
      "dtype: int64\n"
     ]
    }
   ],
   "source": [
    "print(\"Missing data in each column:\")\n",
    "\n",
    "print(df.isnull().sum())"
   ]
  },
  {
   "cell_type": "markdown",
   "metadata": {},
   "source": [
    "## Preprocessing"
   ]
  },
  {
   "cell_type": "code",
   "execution_count": null,
   "metadata": {},
   "outputs": [],
   "source": [
    "# keep only the numerical columns\n",
    "df_only_numerical = df.select_dtypes(include = ['float64', 'int64'])\n",
    "\n",
    "# analyze the outliers\n",
    "for i in df_only_numerical.columns:\n",
    "    plt.figure()\n",
    "    df.boxplot(i)\n",
    "    plt.show()"
   ]
  },
  {
   "cell_type": "markdown",
   "metadata": {},
   "source": [
    "### cleaned the outliers"
   ]
  },
  {
   "cell_type": "code",
   "execution_count": null,
   "metadata": {},
   "outputs": [],
   "source": [
    "# Remove prices above 1'000'000\n",
    "df = df[df['price'] < 1_000_000]\n",
    "\n",
    "# Plot the boxplot again\n",
    "plt.figure()\n",
    "df.boxplot('price')\n",
    "plt.show()"
   ]
  },
  {
   "cell_type": "markdown",
   "metadata": {},
   "source": [
    "## Analyze Correlation"
   ]
  },
  {
   "cell_type": "code",
   "execution_count": null,
   "metadata": {},
   "outputs": [],
   "source": [
    "# analyze all pairs of features\n",
    "pd.plotting.scatter_matrix(df, figsize=(15, 15))\n",
    "plt.show()"
   ]
  },
  {
   "cell_type": "code",
   "execution_count": null,
   "metadata": {},
   "outputs": [],
   "source": [
    "# plot the pairplot\n",
    "sns.pairplot(df, vars=['price', 'mileage', 'power', 'engine_size', 'doors', 'emission_class', 'seats', 'year'])\n",
    "plt.show() "
   ]
  },
  {
   "cell_type": "markdown",
   "metadata": {},
   "source": [
    "## Correlation Matrix with Dendrogram"
   ]
  },
  {
   "cell_type": "code",
   "execution_count": null,
   "metadata": {},
   "outputs": [],
   "source": [
    "# keep only the numerical columns\n",
    "corr = df_only_numerical.corr()\n",
    "sns.clustermap(corr, cmap='coolwarm', figsize=(10, 8))\n",
    "plt.title('Correlation Matrix with Dendrogram')\n",
    "plt.show()"
   ]
  },
  {
   "cell_type": "markdown",
   "metadata": {},
   "source": [
    "## Netwrork graph for correlation"
   ]
  },
  {
   "cell_type": "code",
   "execution_count": null,
   "metadata": {},
   "outputs": [],
   "source": [
    "G = nx.Graph()\n",
    "\n",
    "for i in range(len(corr.columns)):\n",
    "    for j in range(i+1, len(corr.columns)):\n",
    "        G.add_edge(corr.columns[i], corr.columns[j], weight=corr.iloc[i, j])\n",
    "\n",
    "plt.figure(figsize=(10, 8))\n",
    "pos = nx.spring_layout(G, seed=42)\n",
    "edges = G.edges()\n",
    "weights = [G[u][v]['weight'] * 5 for u, v in edges]\n",
    "nx.draw(G, pos, edgelist=edges, width=weights, with_labels=True, node_color='skyblue', node_size=3000, font_size=10)\n",
    "plt.title('Correlation Network Graph')\n",
    "plt.show()"
   ]
  },
  {
   "cell_type": "code",
   "execution_count": null,
   "metadata": {},
   "outputs": [],
   "source": [
    "pearson_corr = df_only_numerical.corr(method='pearson')\n",
    "print(\"Pearson Correlation Matrix:\")\n",
    "print(pearson_corr)"
   ]
  },
  {
   "cell_type": "code",
   "execution_count": null,
   "metadata": {},
   "outputs": [],
   "source": [
    "spearman_corr = df_only_numerical.corr(method='spearman')\n",
    "print(\"Spearman Correlation Matrix:\")\n",
    "print(spearman_corr)"
   ]
  },
  {
   "cell_type": "markdown",
   "metadata": {},
   "source": [
    "### Analyzing with no-numerical features"
   ]
  },
  {
   "cell_type": "code",
   "execution_count": 43,
   "metadata": {},
   "outputs": [],
   "source": [
    "df = pd.read_csv(DATA_FILE, header=[0], index_col=0)"
   ]
  },
  {
   "cell_type": "code",
   "execution_count": 45,
   "metadata": {},
   "outputs": [
    {
     "name": "stderr",
     "output_type": "stream",
     "text": [
      "c:\\Users\\alexm\\AppData\\Local\\Programs\\Python\\Python311\\Lib\\site-packages\\seaborn\\_oldcore.py:1498: FutureWarning: is_categorical_dtype is deprecated and will be removed in a future version. Use isinstance(dtype, CategoricalDtype) instead\n",
      "  if pd.api.types.is_categorical_dtype(vector):\n",
      "c:\\Users\\alexm\\AppData\\Local\\Programs\\Python\\Python311\\Lib\\site-packages\\seaborn\\_oldcore.py:1498: FutureWarning: is_categorical_dtype is deprecated and will be removed in a future version. Use isinstance(dtype, CategoricalDtype) instead\n",
      "  if pd.api.types.is_categorical_dtype(vector):\n",
      "c:\\Users\\alexm\\AppData\\Local\\Programs\\Python\\Python311\\Lib\\site-packages\\seaborn\\_oldcore.py:1498: FutureWarning: is_categorical_dtype is deprecated and will be removed in a future version. Use isinstance(dtype, CategoricalDtype) instead\n",
      "  if pd.api.types.is_categorical_dtype(vector):\n"
     ]
    },
    {
     "data": {
      "image/png": "[encoded data removed]",
      "text/plain": [
       "<Figure size 640x480 with 1 Axes>"
      ]
     },
     "metadata": {},
     "output_type": "display_data"
    }
   ],
   "source": [
    "import seaborn as sns\n",
    "import matplotlib.pyplot as plt\n",
    "\n",
    "# Assuming 'df' is your DataFrame with 'brand' and 'price'\n",
    "sns.boxplot(x='brand', y='price', data=df)\n",
    "plt.xticks(rotation=45)  # Rotate labels for better readability if needed\n",
    "plt.title('Price Distribution by Brand')\n",
    "plt.show()"
   ]
  },
  {
   "cell_type": "code",
   "execution_count": 46,
   "metadata": {},
   "outputs": [
    {
     "name": "stdout",
     "output_type": "stream",
     "text": [
      "ANOVA test results: F=20.87978093204301, p=4.971166878496127e-145\n"
     ]
    }
   ],
   "source": [
    "import pandas as pd\n",
    "import scipy.stats as stats\n",
    "\n",
    "# Grouping prices by brands\n",
    "grouped_data = df.groupby('brand')['price'].apply(list)\n",
    "\n",
    "# ANOVA test\n",
    "F, p = stats.f_oneway(*grouped_data)\n",
    "print(f'ANOVA test results: F={F}, p={p}')"
   ]
  },
  {
   "cell_type": "code",
   "execution_count": 47,
   "metadata": {},
   "outputs": [
    {
     "name": "stdout",
     "output_type": "stream",
     "text": [
      "brand\n",
      "bugatti         2.865897e+06\n",
      "ferrari         4.190881e+05\n",
      "lamborghini     4.118420e+05\n",
      "mclaren         4.045118e+05\n",
      "maserati        3.363512e+05\n",
      "rolls-royce     2.632862e+05\n",
      "aston martin    2.082767e+05\n",
      "bentley         1.381042e+05\n",
      "porsche         9.413484e+04\n",
      "corvette        7.162702e+04\n",
      "land rover      4.739650e+04\n",
      "cadillac        4.247429e+04\n",
      "tesla           4.070608e+04\n",
      "audi            3.965749e+04\n",
      "bmw             3.917528e+04\n",
      "jaguar          3.327013e+04\n",
      "lexus           3.207163e+04\n",
      "cupra           3.146737e+04\n",
      "chevrolet       2.895969e+04\n",
      "subaru          2.855814e+04\n",
      "alfa romeo      2.687132e+04\n",
      "jeep            2.617865e+04\n",
      "ford            2.479369e+04\n",
      "toyota          2.309762e+04\n",
      "hyundai         2.299946e+04\n",
      "skoda           2.264438e+04\n",
      "honda           2.239696e+04\n",
      "kia             2.136927e+04\n",
      "volkswagen      2.134938e+04\n",
      "mazda           2.127990e+04\n",
      "nissan          2.086223e+04\n",
      "seat            1.877034e+04\n",
      "mini            1.753040e+04\n",
      "mitsubishi      1.738749e+04\n",
      "suzuki          1.693956e+04\n",
      "peugeot         1.673949e+04\n",
      "renault         1.559657e+04\n",
      "opel            1.547839e+04\n",
      "citroen         1.480507e+04\n",
      "smart           1.477773e+04\n",
      "dacia           1.353027e+04\n",
      "Name: price, dtype: float64\n"
     ]
    }
   ],
   "source": [
    "mean_prices = df.groupby('brand')['price'].mean().sort_values(ascending=False)\n",
    "print(mean_prices)"
   ]
  },
  {
   "cell_type": "code",
   "execution_count": null,
   "metadata": {},
   "outputs": [],
   "source": [
    "df = pd.get_dummies(df, columns=['brand'], drop_first=True)  # One-hot encode the brand column"
   ]
  },
  {
   "cell_type": "markdown",
   "metadata": {},
   "source": [
    "## Results of analyzing\n",
    "1. Strong predictors of price: features like **power**, **engine size**, and **emission class** are closely linked to **price**.. It suggests they are significant in determining car prices, likely because they reflect the car's performance and compliance with environmental standards.\n",
    "2. The correlation between **power and engine size** is a fundamental mechanical relationship. They would be very effective due to their strong correlation with price. \n",
    "\n"
   ]
  }
 ],
 "metadata": {
  "kernelspec": {
   "display_name": "Python 3",
   "language": "python",
   "name": "python3"
  },
  "language_info": {
   "codemirror_mode": {
    "name": "ipython",
    "version": 3
   },
   "file_extension": ".py",
   "mimetype": "text/x-python",
   "name": "python",
   "nbconvert_exporter": "python",
   "pygments_lexer": "ipython3",
   "version": "3.11.5"
  }
 },
 "nbformat": 4,
 "nbformat_minor": 2
}
