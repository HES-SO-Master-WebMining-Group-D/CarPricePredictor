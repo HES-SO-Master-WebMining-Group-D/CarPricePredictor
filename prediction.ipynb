{
 "cells": [
  {
   "cell_type": "code",
   "execution_count": 14,
   "metadata": {},
   "outputs": [
    {
     "name": "stdout",
     "output_type": "stream",
     "text": [
      "Prediction for input 0: 25590.689453125\n"
     ]
    }
   ],
   "source": [
    "import pandas as pd\n",
    "import numpy as np\n",
    "import joblib\n",
    "\n",
    "# Load the model\n",
    "model = joblib.load('xgbr_price_predictor.pkl')\n",
    "# Load the feature names\n",
    "feature_names = joblib.load('feature_names.pkl')\n",
    "\n",
    "# Function to preprocess new data\n",
    "def preprocess_new_data(new_data, feature_names):\n",
    "    # One-hot encode the categorical columns\n",
    "    one_hot_encode_cols = ['brand', 'model', 'fuel_type', 'gearbox', 'color', 'seller', 'body_type', 'drivetrain', 'country', 'condition', 'upholstery_color']\n",
    "    new_data = pd.get_dummies(new_data, columns=one_hot_encode_cols)\n",
    "    \n",
    "    # Ensure all required columns are present in the new data\n",
    "    missing_cols = set(feature_names) - set(new_data.columns)\n",
    "    \n",
    "    # Add missing columns with zero values at once\n",
    "    missing_cols_df = pd.DataFrame(0, index=new_data.index, columns=list(missing_cols))\n",
    "    new_data = pd.concat([new_data, missing_cols_df], axis=1)\n",
    "    \n",
    "    # Reorder columns to match the model's training data\n",
    "    new_data = new_data[feature_names]\n",
    "    \n",
    "    return new_data\n",
    "\n",
    "# Example new data (replace with your actual data)\n",
    "new_data = pd.DataFrame({\n",
    "    'mileage': [50000],\n",
    "    'power': [120],\n",
    "    'engine_size': [1998],\n",
    "    'doors': [4],\n",
    "    'seats': [5],\n",
    "    'brand': ['audi'],\n",
    "    'model': ['a4'],\n",
    "    'fuel_type': ['petrol'],\n",
    "    'gearbox': ['manual'],\n",
    "    'color': ['black'],\n",
    "    'seller': ['private'],\n",
    "    'body_type': ['sedan'],\n",
    "    'drivetrain': ['front'],\n",
    "    'country': ['germany'],\n",
    "    'condition': ['used'],\n",
    "    'upholstery_color': ['black'],\n",
    "    'emission_class': [4],\n",
    "    'year': [1900]\n",
    "})\n",
    "\n",
    "# Preprocess the new data\n",
    "preprocessed_data = preprocess_new_data(new_data, feature_names)\n",
    "\n",
    "# Convert to numpy array for prediction\n",
    "X_new = np.array(preprocessed_data)\n",
    "\n",
    "# Make predictions\n",
    "predictions = model.predict(X_new)\n",
    "\n",
    "# Print the predicted values\n",
    "for i, prediction in enumerate(predictions):\n",
    "    print(f'Prediction for input {i}: {prediction}')\n"
   ]
  }
 ],
 "metadata": {
  "kernelspec": {
   "display_name": "Python 3",
   "language": "python",
   "name": "python3"
  },
  "language_info": {
   "codemirror_mode": {
    "name": "ipython",
    "version": 3
   },
   "file_extension": ".py",
   "mimetype": "text/x-python",
   "name": "python",
   "nbconvert_exporter": "python",
   "pygments_lexer": "ipython3",
   "version": "3.11.5"
  }
 },
 "nbformat": 4,
 "nbformat_minor": 2
}
