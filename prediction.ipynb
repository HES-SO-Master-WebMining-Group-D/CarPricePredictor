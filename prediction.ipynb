{
 "cells": [
  {
   "cell_type": "code",
   "execution_count": 1,
   "metadata": {},
   "outputs": [
    {
     "name": "stdout",
     "output_type": "stream",
     "text": [
      "Prediction for input 0: 21863.984375\n"
     ]
    }
   ],
   "source": [
    "import pandas as pd\n",
    "import numpy as np\n",
    "import joblib\n",
    "import pandas as pd\n",
    "\n",
    "# Load the model\n",
    "model = joblib.load('xgbr_price_predictor.pkl')\n",
    "# Load the feature names\n",
    "feature_names = joblib.load('feature_names.pkl')\n",
    "\n",
    "# Function to preprocess new data\n",
    "def preprocess_new_data(new_data, feature_names):\n",
    "    # One-hot encode the categorical columns\n",
    "    one_hot_encode_cols = ['brand', 'model', 'fuel_type', 'gearbox', 'color', 'seller', 'body_type', 'drivetrain', 'country', 'condition', 'upholstery_color']\n",
    "    new_data = pd.get_dummies(new_data, columns=one_hot_encode_cols)\n",
    "    \n",
    "    # Ensure all required columns are present in the new data\n",
    "    missing_cols = set(feature_names) - set(new_data.columns)\n",
    "    \n",
    "    # Add missing columns with zero values at once\n",
    "    missing_cols_df = pd.DataFrame(0, index=new_data.index, columns=list(missing_cols))\n",
    "    new_data = pd.concat([new_data, missing_cols_df], axis=1)\n",
    "    \n",
    "    # Reorder columns to match the model's training data\n",
    "    new_data = new_data[feature_names]\n",
    "\n",
    "    # convert into pandas\n",
    "    new_data = pd.DataFrame(new_data, columns=feature_names)\n",
    "    new_data.head()\n",
    "    \n",
    "    return new_data\n",
    "\n",
    "# Example new data (replace with your actual data)\n",
    "new_data = pd.DataFrame({\n",
    "    'brand': ['audi'],\n",
    "    'model': ['a4'],\n",
    "    #'mileage': [50000],\n",
    "    'color': ['black'],\n",
    "    'gearbox': ['manual'],\n",
    "    #'power': [120],\n",
    "    #'engine_size': [1998],\n",
    "    'seller': ['private'],\n",
    "    'body_type': ['sedan'],\n",
    "    #'doors': [4],\n",
    "    #'seats': [5],\n",
    "    'drivetrain': ['front'],\n",
    "    #'emission_class': [4],\n",
    "    'condition': ['used'],\n",
    "    'upholstery_color': ['black'],\n",
    "    #'year': [1950]\n",
    "    'fuel_type': ['petrol'],\n",
    "    'country': ['germany'],\n",
    "})\n",
    "\n",
    "# Preprocess the new data\n",
    "preprocessed_data = preprocess_new_data(new_data, feature_names)\n",
    "\n",
    "# Convert to numpy array for prediction\n",
    "X_new = np.array(preprocessed_data)\n",
    "\n",
    "# Make predictions\n",
    "predictions = model.predict(X_new)\n",
    "\n",
    "# Print the predicted values\n",
    "for i, prediction in enumerate(predictions):\n",
    "    print(f'Prediction for input {i}: {prediction}')\n"
   ]
  },
  {
   "cell_type": "code",
   "execution_count": 9,
   "metadata": {},
   "outputs": [
    {
     "name": "stdout",
     "output_type": "stream",
     "text": [
      "2370.0\n",
      "0.0\n"
     ]
    }
   ],
   "source": [
    "import pandas as pd\n",
    "\n",
    "df = pd.read_csv('cleaned_cars.csv')\n",
    "\n",
    "# want to know if it in KM or meters\n",
    "print(df['emission_class'].max())\n",
    "print(df['emission_class'].min())"
   ]
  }
 ],
 "metadata": {
  "kernelspec": {
   "display_name": "Python 3",
   "language": "python",
   "name": "python3"
  },
  "language_info": {
   "codemirror_mode": {
    "name": "ipython",
    "version": 3
   },
   "file_extension": ".py",
   "mimetype": "text/x-python",
   "name": "python",
   "nbconvert_exporter": "python",
   "pygments_lexer": "ipython3",
   "version": "3.11.5"
  }
 },
 "nbformat": 4,
 "nbformat_minor": 2
}
