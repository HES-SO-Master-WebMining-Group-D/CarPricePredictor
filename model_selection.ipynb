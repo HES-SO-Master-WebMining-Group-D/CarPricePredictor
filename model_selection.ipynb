{
 "cells": [
  {
   "cell_type": "markdown",
   "metadata": {},
   "source": [
    "# AutoscoutDataAnalysis"
   ]
  },
  {
   "cell_type": "markdown",
   "metadata": {},
   "source": [
    "## Choice and tests on different models - Lazy predict"
   ]
  },
  {
   "cell_type": "markdown",
   "metadata": {},
   "source": [
    "## Authors : \n",
    "- Mozerski Alex\n",
    "- Fraile Diego\n",
    "- Spycher Damian\n",
    "\n",
    "#### Projet semestre d'été 2024\n",
    "version 1.0"
   ]
  },
  {
   "cell_type": "markdown",
   "metadata": {},
   "source": [
    "### Imports"
   ]
  },
  {
   "cell_type": "code",
   "execution_count": 62,
   "metadata": {},
   "outputs": [],
   "source": [
    "import pandas as pd\n",
    "import matplotlib.pyplot as plt\n",
    "import seaborn as sns\n",
    "import os\n",
    "import numpy as np\n",
    "import networkx as nx\n",
    "from lazypredict.Supervised import LazyRegressor\n",
    "from sklearn.model_selection import train_test_split\n",
    "from sklearn.metrics import mean_squared_error\n",
    "from matplotlib import pyplot as plt\n",
    "from sklearn.preprocessing import OneHotEncoder"
   ]
  },
  {
   "cell_type": "markdown",
   "metadata": {},
   "source": [
    "### Constant"
   ]
  },
  {
   "cell_type": "code",
   "execution_count": 63,
   "metadata": {},
   "outputs": [],
   "source": [
    "DATA_FILE = os.path.join(os.getcwd(), 'cleaned_cars.csv')"
   ]
  },
  {
   "cell_type": "markdown",
   "metadata": {},
   "source": [
    "### Data Loading"
   ]
  },
  {
   "cell_type": "code",
   "execution_count": 64,
   "metadata": {},
   "outputs": [],
   "source": [
    "df = pd.read_csv(DATA_FILE, header=[0], index_col=0)"
   ]
  },
  {
   "cell_type": "markdown",
   "metadata": {},
   "source": [
    "### Overview of the dataset"
   ]
  },
  {
   "cell_type": "code",
   "execution_count": 65,
   "metadata": {},
   "outputs": [
    {
     "data": {
      "text/html": [
       "<div>\n",
       "<style scoped>\n",
       "    .dataframe tbody tr th:only-of-type {\n",
       "        vertical-align: middle;\n",
       "    }\n",
       "\n",
       "    .dataframe tbody tr th {\n",
       "        vertical-align: top;\n",
       "    }\n",
       "\n",
       "    .dataframe thead th {\n",
       "        text-align: right;\n",
       "    }\n",
       "</style>\n",
       "<table border=\"1\" class=\"dataframe\">\n",
       "  <thead>\n",
       "    <tr style=\"text-align: right;\">\n",
       "      <th></th>\n",
       "      <th>brand</th>\n",
       "      <th>model</th>\n",
       "      <th>price</th>\n",
       "      <th>mileage</th>\n",
       "      <th>fuel_type</th>\n",
       "      <th>color</th>\n",
       "      <th>gearbox</th>\n",
       "      <th>power</th>\n",
       "      <th>engine_size</th>\n",
       "      <th>seller</th>\n",
       "      <th>body_type</th>\n",
       "      <th>doors</th>\n",
       "      <th>seats</th>\n",
       "      <th>drivetrain</th>\n",
       "      <th>emission_class</th>\n",
       "      <th>condition</th>\n",
       "      <th>upholstery</th>\n",
       "      <th>upholstery_color</th>\n",
       "      <th>year</th>\n",
       "      <th>country</th>\n",
       "    </tr>\n",
       "    <tr>\n",
       "      <th>url</th>\n",
       "      <th></th>\n",
       "      <th></th>\n",
       "      <th></th>\n",
       "      <th></th>\n",
       "      <th></th>\n",
       "      <th></th>\n",
       "      <th></th>\n",
       "      <th></th>\n",
       "      <th></th>\n",
       "      <th></th>\n",
       "      <th></th>\n",
       "      <th></th>\n",
       "      <th></th>\n",
       "      <th></th>\n",
       "      <th></th>\n",
       "      <th></th>\n",
       "      <th></th>\n",
       "      <th></th>\n",
       "      <th></th>\n",
       "      <th></th>\n",
       "    </tr>\n",
       "  </thead>\n",
       "  <tbody>\n",
       "    <tr>\n",
       "      <th>https://www.autoscout24.com/offers/alfa-romeo-159-berlina-2-0-jtdm-super-diesel-red-7140b39f-39f8-4707-833e-3ac1344299b2</th>\n",
       "      <td>alfa romeo</td>\n",
       "      <td>159</td>\n",
       "      <td>5500.00</td>\n",
       "      <td>233685.00</td>\n",
       "      <td>diesel</td>\n",
       "      <td>red</td>\n",
       "      <td>manual</td>\n",
       "      <td>136.00</td>\n",
       "      <td>1956.00</td>\n",
       "      <td>dealer</td>\n",
       "      <td>sedan</td>\n",
       "      <td>4.00</td>\n",
       "      <td>5.00</td>\n",
       "      <td>front</td>\n",
       "      <td>134.00</td>\n",
       "      <td>used</td>\n",
       "      <td>grey</td>\n",
       "      <td>NaN</td>\n",
       "      <td>2011.00</td>\n",
       "      <td>it</td>\n",
       "    </tr>\n",
       "    <tr>\n",
       "      <th>https://www.autoscout24.com/offers/alfa-romeo-159-1-8-tbi-elegante-gasoline-red-edd10d3e-53b3-4201-9d2b-73216507df12</th>\n",
       "      <td>alfa romeo</td>\n",
       "      <td>159</td>\n",
       "      <td>13990.00</td>\n",
       "      <td>134000.00</td>\n",
       "      <td>gasoline</td>\n",
       "      <td>red</td>\n",
       "      <td>manual</td>\n",
       "      <td>200.00</td>\n",
       "      <td>1742.00</td>\n",
       "      <td>dealer</td>\n",
       "      <td>sedan</td>\n",
       "      <td>4.00</td>\n",
       "      <td>5.00</td>\n",
       "      <td>front</td>\n",
       "      <td>NaN</td>\n",
       "      <td>used</td>\n",
       "      <td>NaN</td>\n",
       "      <td>NaN</td>\n",
       "      <td>2010.00</td>\n",
       "      <td>es</td>\n",
       "    </tr>\n",
       "    <tr>\n",
       "      <th>https://www.autoscout24.com/offers/renault-others-dauphin-gasoline-yellow-762bffc3-b9b0-4c4b-b14d-f066356eb926</th>\n",
       "      <td>renault</td>\n",
       "      <td>unknown</td>\n",
       "      <td>2300.00</td>\n",
       "      <td>27000.00</td>\n",
       "      <td>gasoline</td>\n",
       "      <td>yellow</td>\n",
       "      <td>manual</td>\n",
       "      <td>80.00</td>\n",
       "      <td>800.00</td>\n",
       "      <td>dealer</td>\n",
       "      <td>sedan</td>\n",
       "      <td>NaN</td>\n",
       "      <td>NaN</td>\n",
       "      <td>NaN</td>\n",
       "      <td>NaN</td>\n",
       "      <td>used</td>\n",
       "      <td>NaN</td>\n",
       "      <td>alcantara</td>\n",
       "      <td>1963.00</td>\n",
       "      <td>be</td>\n",
       "    </tr>\n",
       "    <tr>\n",
       "      <th>https://www.autoscout24.com/offers/opel-antara-2-4-16v-temptation-trekhaak-gasoline-black-09934fcb-5180-47e3-9c90-e1cdb6215977</th>\n",
       "      <td>opel</td>\n",
       "      <td>antara</td>\n",
       "      <td>3499.00</td>\n",
       "      <td>212575.00</td>\n",
       "      <td>gasoline</td>\n",
       "      <td>black</td>\n",
       "      <td>manual</td>\n",
       "      <td>140.00</td>\n",
       "      <td>2405.00</td>\n",
       "      <td>dealer</td>\n",
       "      <td>off-road/pick-up</td>\n",
       "      <td>5.00</td>\n",
       "      <td>5.00</td>\n",
       "      <td>4wd</td>\n",
       "      <td>229.00</td>\n",
       "      <td>used</td>\n",
       "      <td>NaN</td>\n",
       "      <td>metallic</td>\n",
       "      <td>2008.00</td>\n",
       "      <td>nl</td>\n",
       "    </tr>\n",
       "    <tr>\n",
       "      <th>https://www.autoscout24.com/offers/alfa-romeo-giulia-2-0-turbo-automatik-ti-q4-leder-navi-kamera-gasoline-white-7e452f2c-a446-4b1d-a072-20462e8d2d2b</th>\n",
       "      <td>alfa romeo</td>\n",
       "      <td>giulia</td>\n",
       "      <td>39800.00</td>\n",
       "      <td>7100.00</td>\n",
       "      <td>gasoline</td>\n",
       "      <td>white</td>\n",
       "      <td>automatic</td>\n",
       "      <td>280.00</td>\n",
       "      <td>1995.00</td>\n",
       "      <td>dealer</td>\n",
       "      <td>sedan</td>\n",
       "      <td>4.00</td>\n",
       "      <td>4.00</td>\n",
       "      <td>front</td>\n",
       "      <td>NaN</td>\n",
       "      <td>employee's car</td>\n",
       "      <td>full leather</td>\n",
       "      <td>black</td>\n",
       "      <td>2023.00</td>\n",
       "      <td>de</td>\n",
       "    </tr>\n",
       "  </tbody>\n",
       "</table>\n",
       "</div>"
      ],
      "text/plain": [
       "                                                         brand    model  \\\n",
       "url                                                                       \n",
       "https://www.autoscout24.com/offers/alfa-romeo-1...  alfa romeo      159   \n",
       "https://www.autoscout24.com/offers/alfa-romeo-1...  alfa romeo      159   \n",
       "https://www.autoscout24.com/offers/renault-othe...     renault  unknown   \n",
       "https://www.autoscout24.com/offers/opel-antara-...        opel   antara   \n",
       "https://www.autoscout24.com/offers/alfa-romeo-g...  alfa romeo   giulia   \n",
       "\n",
       "                                                      price   mileage  \\\n",
       "url                                                                     \n",
       "https://www.autoscout24.com/offers/alfa-romeo-1...  5500.00 233685.00   \n",
       "https://www.autoscout24.com/offers/alfa-romeo-1... 13990.00 134000.00   \n",
       "https://www.autoscout24.com/offers/renault-othe...  2300.00  27000.00   \n",
       "https://www.autoscout24.com/offers/opel-antara-...  3499.00 212575.00   \n",
       "https://www.autoscout24.com/offers/alfa-romeo-g... 39800.00   7100.00   \n",
       "\n",
       "                                                   fuel_type   color  \\\n",
       "url                                                                    \n",
       "https://www.autoscout24.com/offers/alfa-romeo-1...    diesel     red   \n",
       "https://www.autoscout24.com/offers/alfa-romeo-1...  gasoline     red   \n",
       "https://www.autoscout24.com/offers/renault-othe...  gasoline  yellow   \n",
       "https://www.autoscout24.com/offers/opel-antara-...  gasoline   black   \n",
       "https://www.autoscout24.com/offers/alfa-romeo-g...  gasoline   white   \n",
       "\n",
       "                                                      gearbox  power  \\\n",
       "url                                                                    \n",
       "https://www.autoscout24.com/offers/alfa-romeo-1...     manual 136.00   \n",
       "https://www.autoscout24.com/offers/alfa-romeo-1...     manual 200.00   \n",
       "https://www.autoscout24.com/offers/renault-othe...     manual  80.00   \n",
       "https://www.autoscout24.com/offers/opel-antara-...     manual 140.00   \n",
       "https://www.autoscout24.com/offers/alfa-romeo-g...  automatic 280.00   \n",
       "\n",
       "                                                    engine_size  seller  \\\n",
       "url                                                                       \n",
       "https://www.autoscout24.com/offers/alfa-romeo-1...      1956.00  dealer   \n",
       "https://www.autoscout24.com/offers/alfa-romeo-1...      1742.00  dealer   \n",
       "https://www.autoscout24.com/offers/renault-othe...       800.00  dealer   \n",
       "https://www.autoscout24.com/offers/opel-antara-...      2405.00  dealer   \n",
       "https://www.autoscout24.com/offers/alfa-romeo-g...      1995.00  dealer   \n",
       "\n",
       "                                                           body_type  doors  \\\n",
       "url                                                                           \n",
       "https://www.autoscout24.com/offers/alfa-romeo-1...             sedan   4.00   \n",
       "https://www.autoscout24.com/offers/alfa-romeo-1...             sedan   4.00   \n",
       "https://www.autoscout24.com/offers/renault-othe...             sedan    NaN   \n",
       "https://www.autoscout24.com/offers/opel-antara-...  off-road/pick-up   5.00   \n",
       "https://www.autoscout24.com/offers/alfa-romeo-g...             sedan   4.00   \n",
       "\n",
       "                                                    seats drivetrain  \\\n",
       "url                                                                    \n",
       "https://www.autoscout24.com/offers/alfa-romeo-1...   5.00      front   \n",
       "https://www.autoscout24.com/offers/alfa-romeo-1...   5.00      front   \n",
       "https://www.autoscout24.com/offers/renault-othe...    NaN        NaN   \n",
       "https://www.autoscout24.com/offers/opel-antara-...   5.00        4wd   \n",
       "https://www.autoscout24.com/offers/alfa-romeo-g...   4.00      front   \n",
       "\n",
       "                                                    emission_class  \\\n",
       "url                                                                  \n",
       "https://www.autoscout24.com/offers/alfa-romeo-1...          134.00   \n",
       "https://www.autoscout24.com/offers/alfa-romeo-1...             NaN   \n",
       "https://www.autoscout24.com/offers/renault-othe...             NaN   \n",
       "https://www.autoscout24.com/offers/opel-antara-...          229.00   \n",
       "https://www.autoscout24.com/offers/alfa-romeo-g...             NaN   \n",
       "\n",
       "                                                         condition  \\\n",
       "url                                                                  \n",
       "https://www.autoscout24.com/offers/alfa-romeo-1...            used   \n",
       "https://www.autoscout24.com/offers/alfa-romeo-1...            used   \n",
       "https://www.autoscout24.com/offers/renault-othe...            used   \n",
       "https://www.autoscout24.com/offers/opel-antara-...            used   \n",
       "https://www.autoscout24.com/offers/alfa-romeo-g...  employee's car   \n",
       "\n",
       "                                                      upholstery  \\\n",
       "url                                                                \n",
       "https://www.autoscout24.com/offers/alfa-romeo-1...          grey   \n",
       "https://www.autoscout24.com/offers/alfa-romeo-1...           NaN   \n",
       "https://www.autoscout24.com/offers/renault-othe...           NaN   \n",
       "https://www.autoscout24.com/offers/opel-antara-...           NaN   \n",
       "https://www.autoscout24.com/offers/alfa-romeo-g...  full leather   \n",
       "\n",
       "                                                   upholstery_color    year  \\\n",
       "url                                                                           \n",
       "https://www.autoscout24.com/offers/alfa-romeo-1...              NaN 2011.00   \n",
       "https://www.autoscout24.com/offers/alfa-romeo-1...              NaN 2010.00   \n",
       "https://www.autoscout24.com/offers/renault-othe...        alcantara 1963.00   \n",
       "https://www.autoscout24.com/offers/opel-antara-...         metallic 2008.00   \n",
       "https://www.autoscout24.com/offers/alfa-romeo-g...            black 2023.00   \n",
       "\n",
       "                                                   country  \n",
       "url                                                         \n",
       "https://www.autoscout24.com/offers/alfa-romeo-1...      it  \n",
       "https://www.autoscout24.com/offers/alfa-romeo-1...      es  \n",
       "https://www.autoscout24.com/offers/renault-othe...      be  \n",
       "https://www.autoscout24.com/offers/opel-antara-...      nl  \n",
       "https://www.autoscout24.com/offers/alfa-romeo-g...      de  "
      ]
     },
     "execution_count": 65,
     "metadata": {},
     "output_type": "execute_result"
    }
   ],
   "source": [
    "df.head()"
   ]
  },
  {
   "cell_type": "code",
   "execution_count": 66,
   "metadata": {},
   "outputs": [
    {
     "name": "stdout",
     "output_type": "stream",
     "text": [
      "Missing data in each column:\n",
      "brand                  0\n",
      "model                  0\n",
      "price                  0\n",
      "mileage              181\n",
      "fuel_type             26\n",
      "color                110\n",
      "gearbox              401\n",
      "power                236\n",
      "engine_size         1626\n",
      "seller                 0\n",
      "body_type              0\n",
      "doors               4264\n",
      "seats               1329\n",
      "drivetrain          3886\n",
      "emission_class      6048\n",
      "condition              0\n",
      "upholstery          4414\n",
      "upholstery_color    3964\n",
      "year                 718\n",
      "country                0\n",
      "dtype: int64\n"
     ]
    }
   ],
   "source": [
    "print(\"Missing data in each column:\")\n",
    "\n",
    "print(df.isnull().sum())"
   ]
  },
  {
   "cell_type": "code",
   "execution_count": 67,
   "metadata": {},
   "outputs": [],
   "source": [
    "# Remove prices above 1'000'000\n",
    "df = df[df['price'] < 1000000]"
   ]
  },
  {
   "cell_type": "code",
   "execution_count": 68,
   "metadata": {},
   "outputs": [],
   "source": [
    "df = df.select_dtypes(include = ['float64', 'int64'])"
   ]
  },
  {
   "cell_type": "code",
   "execution_count": 69,
   "metadata": {},
   "outputs": [],
   "source": [
    "#df = df.dropna()"
   ]
  },
  {
   "cell_type": "code",
   "execution_count": 70,
   "metadata": {},
   "outputs": [],
   "source": [
    "from sklearn.pipeline import Pipeline\n",
    "from sklearn.compose import ColumnTransformer\n",
    "from sklearn.preprocessing import OneHotEncoder, StandardScaler\n",
    "from sklearn.model_selection import train_test_split\n",
    "from lazypredict.Supervised import LazyRegressor\n",
    "import pandas as pd\n",
    "\n",
    "\n"
   ]
  },
  {
   "cell_type": "markdown",
   "metadata": {},
   "source": [
    "## Lazy predict"
   ]
  },
  {
   "cell_type": "code",
   "execution_count": 71,
   "metadata": {},
   "outputs": [
    {
     "data": {
      "text/plain": [
       "(Index(['mileage', 'power', 'engine_size', 'doors', 'seats', 'emission_class',\n",
       "        'year'],\n",
       "       dtype='object'),\n",
       " 'price')"
      ]
     },
     "execution_count": 71,
     "metadata": {},
     "output_type": "execute_result"
    }
   ],
   "source": [
    "predict_col= \"price\"\n",
    "data_cols= df.columns[df.columns != predict_col]\n",
    "data_cols, predict_col"
   ]
  },
  {
   "cell_type": "code",
   "execution_count": 72,
   "metadata": {},
   "outputs": [
    {
     "name": "stdout",
     "output_type": "stream",
     "text": [
      "(12244, 7) (3061, 7) (12244,) (3061,)\n"
     ]
    }
   ],
   "source": [
    "X_train, X_test, y_train, y_test = train_test_split(df[data_cols],df[predict_col] , test_size=0.2, shuffle=False)\n",
    "print(X_train.shape, X_test.shape, y_train.shape, y_test.shape)"
   ]
  },
  {
   "cell_type": "code",
   "execution_count": 73,
   "metadata": {},
   "outputs": [
    {
     "name": "stderr",
     "output_type": "stream",
     "text": [
      "100%|██████████| 42/42 [00:54<00:00,  1.31s/it]"
     ]
    },
    {
     "name": "stdout",
     "output_type": "stream",
     "text": [
      "[LightGBM] [Info] Auto-choosing col-wise multi-threading, the overhead of testing was 0.000212 seconds.\n",
      "You can set `force_col_wise=true` to remove the overhead.\n",
      "[LightGBM] [Info] Total Bins 1085\n",
      "[LightGBM] [Info] Number of data points in the train set: 12244, number of used features: 7\n",
      "[LightGBM] [Info] Start training from score 68607.956877\n",
      "                               Adjusted R-Squared  R-Squared        RMSE  \\\n",
      "Model                                                                      \n",
      "RANSACRegressor                              0.53       0.53    11219.71   \n",
      "GammaRegressor                               0.05       0.05    15871.53   \n",
      "SVR                                          0.04       0.04    15979.07   \n",
      "NuSVR                                       -0.43      -0.42    19454.77   \n",
      "LinearSVR                                   -0.74      -0.74    21497.64   \n",
      "MLPRegressor                                -1.08      -1.08    23506.58   \n",
      "XGBRegressor                                -1.96      -1.95    28007.63   \n",
      "PassiveAggressiveRegressor                  -2.14      -2.14    28866.88   \n",
      "TweedieRegressor                            -2.42      -2.41    30107.54   \n",
      "LGBMRegressor                               -2.51      -2.51    30515.29   \n",
      "ExtraTreesRegressor                         -2.53      -2.53    30609.14   \n",
      "HistGradientBoostingRegressor               -2.58      -2.57    30783.39   \n",
      "HuberRegressor                              -2.70      -2.69    31324.47   \n",
      "ElasticNet                                  -2.84      -2.83    31904.64   \n",
      "RandomForestRegressor                       -3.01      -3.00    32592.36   \n",
      "BaggingRegressor                            -3.28      -3.27    33662.10   \n",
      "DecisionTreeRegressor                       -3.37      -3.36    34024.72   \n",
      "GradientBoostingRegressor                   -3.51      -3.50    34593.68   \n",
      "KNeighborsRegressor                         -3.83      -3.81    35763.99   \n",
      "PoissonRegressor                            -6.62      -6.60    44931.84   \n",
      "ElasticNetCV                                -6.84      -6.82    45584.88   \n",
      "LassoLarsCV                                 -7.22      -7.21    46690.25   \n",
      "LarsCV                                      -7.22      -7.21    46690.25   \n",
      "DummyRegressor                              -7.26      -7.24    46789.53   \n",
      "LassoCV                                     -7.26      -7.24    46800.67   \n",
      "RidgeCV                                     -8.22      -8.20    49440.72   \n",
      "OrthogonalMatchingPursuitCV                 -8.23      -8.20    49451.51   \n",
      "BayesianRidge                               -8.24      -8.22    49492.46   \n",
      "Ridge                                       -8.26      -8.23    49531.77   \n",
      "LassoLars                                   -8.26      -8.24    49540.73   \n",
      "Lasso                                       -8.26      -8.24    49540.73   \n",
      "LassoLarsIC                                 -8.26      -8.24    49541.93   \n",
      "Lars                                        -8.26      -8.24    49541.93   \n",
      "LinearRegression                            -8.26      -8.24    49541.93   \n",
      "TransformedTargetRegressor                  -8.26      -8.24    49541.93   \n",
      "OrthogonalMatchingPursuit                   -8.53      -8.51    50265.88   \n",
      "AdaBoostRegressor                          -12.86     -12.82    60602.84   \n",
      "ExtraTreeRegressor                         -16.44     -16.40    67984.28   \n",
      "KernelRidge                                -20.98     -20.93    76333.44   \n",
      "SGDRegressor                               -39.69     -39.60   103855.62   \n",
      "GaussianProcessRegressor               -886065.90 -884038.95 15325184.83   \n",
      "\n",
      "                               Time Taken  \n",
      "Model                                      \n",
      "RANSACRegressor                      0.12  \n",
      "GammaRegressor                       0.02  \n",
      "SVR                                  4.80  \n",
      "NuSVR                                3.46  \n",
      "LinearSVR                            0.01  \n",
      "MLPRegressor                         6.72  \n",
      "XGBRegressor                         0.06  \n",
      "PassiveAggressiveRegressor           0.05  \n",
      "TweedieRegressor                     0.02  \n",
      "LGBMRegressor                        0.06  \n",
      "ExtraTreesRegressor                  3.68  \n",
      "HistGradientBoostingRegressor        0.51  \n",
      "HuberRegressor                       0.05  \n",
      "ElasticNet                           0.04  \n",
      "RandomForestRegressor                7.72  \n",
      "BaggingRegressor                     0.81  \n",
      "DecisionTreeRegressor                0.10  \n",
      "GradientBoostingRegressor            1.17  \n",
      "KNeighborsRegressor                  0.08  \n",
      "PoissonRegressor                     0.02  \n",
      "ElasticNetCV                         0.06  \n",
      "LassoLarsCV                          0.02  \n",
      "LarsCV                               0.02  \n",
      "DummyRegressor                       0.01  \n",
      "LassoCV                              0.07  \n",
      "RidgeCV                              0.01  \n",
      "OrthogonalMatchingPursuitCV          0.02  \n",
      "BayesianRidge                        0.01  \n",
      "Ridge                                0.01  \n",
      "LassoLars                            0.01  \n",
      "Lasso                                0.04  \n",
      "LassoLarsIC                          0.01  \n",
      "Lars                                 0.01  \n",
      "LinearRegression                     0.01  \n",
      "TransformedTargetRegressor           0.01  \n",
      "OrthogonalMatchingPursuit            0.01  \n",
      "AdaBoostRegressor                    0.25  \n",
      "ExtraTreeRegressor                   0.04  \n",
      "KernelRidge                          8.13  \n",
      "SGDRegressor                         0.01  \n",
      "GaussianProcessRegressor            16.60  \n"
     ]
    },
    {
     "name": "stderr",
     "output_type": "stream",
     "text": [
      "\n"
     ]
    }
   ],
   "source": [
    "clf = LazyRegressor(verbose=0,ignore_warnings=True, custom_metric=None)\n",
    "models, predictions = clf.fit(X_train, X_test, y_train, y_test)\n",
    "print(models)"
   ]
  },
  {
   "cell_type": "code",
   "execution_count": 74,
   "metadata": {},
   "outputs": [
    {
     "name": "stdout",
     "output_type": "stream",
     "text": [
      "mileage            138\n",
      "power              204\n",
      "engine_size       1061\n",
      "doors             3607\n",
      "seats             1144\n",
      "emission_class    4834\n",
      "year               506\n",
      "dtype: int64\n",
      "mileage             41\n",
      "power               19\n",
      "engine_size        522\n",
      "doors              598\n",
      "seats              158\n",
      "emission_class    1140\n",
      "year               203\n",
      "dtype: int64\n",
      "0\n",
      "0\n"
     ]
    }
   ],
   "source": [
    "# check if train, test has some NaN values\n",
    "print(X_train.isnull().sum())\n",
    "print(X_test.isnull().sum())\n",
    "print(y_train.isnull().sum())\n",
    "print(y_test.isnull().sum())"
   ]
  },
  {
   "cell_type": "code",
   "execution_count": 75,
   "metadata": {},
   "outputs": [
    {
     "name": "stdout",
     "output_type": "stream",
     "text": [
      "814711228.8063864\n"
     ]
    }
   ],
   "source": [
    "from sklearn.experimental import enable_hist_gradient_boosting  # Explicitly require this experimental feature\n",
    "from sklearn.ensemble import HistGradientBoostingRegressor\n",
    "\n",
    "# Initialize and fit the model\n",
    "reg = HistGradientBoostingRegressor().fit(X_train, y_train)\n",
    "\n",
    "# Predict on the test data\n",
    "y_pred = reg.predict(X_test)\n",
    "mse = mean_squared_error(y_test, y_pred)\n",
    "print(mse)"
   ]
  },
  {
   "cell_type": "code",
   "execution_count": 76,
   "metadata": {},
   "outputs": [
    {
     "ename": "ValueError",
     "evalue": "Input X contains NaN.\nGammaRegressor does not accept missing values encoded as NaN natively. For supervised learning, you might want to consider sklearn.ensemble.HistGradientBoostingClassifier and Regressor which accept missing values encoded as NaNs natively. Alternatively, it is possible to preprocess the data, for instance by using an imputer transformer in a pipeline or drop samples with missing values. See https://scikit-learn.org/stable/modules/impute.html You can find a list of all estimators that handle NaN values at the following page: https://scikit-learn.org/stable/modules/impute.html#estimators-that-handle-nan-values",
     "output_type": "error",
     "traceback": [
      "\u001b[1;31m---------------------------------------------------------------------------\u001b[0m",
      "\u001b[1;31mValueError\u001b[0m                                Traceback (most recent call last)",
      "Cell \u001b[1;32mIn[76], line 3\u001b[0m\n\u001b[0;32m      1\u001b[0m \u001b[38;5;28;01mfrom\u001b[39;00m \u001b[38;5;21;01msklearn\u001b[39;00m\u001b[38;5;21;01m.\u001b[39;00m\u001b[38;5;21;01mlinear_model\u001b[39;00m \u001b[38;5;28;01mimport\u001b[39;00m GammaRegressor\n\u001b[1;32m----> 3\u001b[0m reg \u001b[38;5;241m=\u001b[39m \u001b[43mGammaRegressor\u001b[49m\u001b[43m(\u001b[49m\u001b[43m)\u001b[49m\u001b[38;5;241;43m.\u001b[39;49m\u001b[43mfit\u001b[49m\u001b[43m(\u001b[49m\u001b[43mX_train\u001b[49m\u001b[43m,\u001b[49m\u001b[43m \u001b[49m\u001b[43my_train\u001b[49m\u001b[43m)\u001b[49m\n\u001b[0;32m      4\u001b[0m y_pred \u001b[38;5;241m=\u001b[39m reg\u001b[38;5;241m.\u001b[39mpredict(X_test)\n\u001b[0;32m      5\u001b[0m mse \u001b[38;5;241m=\u001b[39m mean_squared_error(y_test, y_pred)\n",
      "File \u001b[1;32mc:\\Users\\alexm\\AppData\\Local\\Programs\\Python\\Python311\\Lib\\site-packages\\sklearn\\base.py:1152\u001b[0m, in \u001b[0;36m_fit_context.<locals>.decorator.<locals>.wrapper\u001b[1;34m(estimator, *args, **kwargs)\u001b[0m\n\u001b[0;32m   1145\u001b[0m     estimator\u001b[38;5;241m.\u001b[39m_validate_params()\n\u001b[0;32m   1147\u001b[0m \u001b[38;5;28;01mwith\u001b[39;00m config_context(\n\u001b[0;32m   1148\u001b[0m     skip_parameter_validation\u001b[38;5;241m=\u001b[39m(\n\u001b[0;32m   1149\u001b[0m         prefer_skip_nested_validation \u001b[38;5;129;01mor\u001b[39;00m global_skip_validation\n\u001b[0;32m   1150\u001b[0m     )\n\u001b[0;32m   1151\u001b[0m ):\n\u001b[1;32m-> 1152\u001b[0m     \u001b[38;5;28;01mreturn\u001b[39;00m \u001b[43mfit_method\u001b[49m\u001b[43m(\u001b[49m\u001b[43mestimator\u001b[49m\u001b[43m,\u001b[49m\u001b[43m \u001b[49m\u001b[38;5;241;43m*\u001b[39;49m\u001b[43margs\u001b[49m\u001b[43m,\u001b[49m\u001b[43m \u001b[49m\u001b[38;5;241;43m*\u001b[39;49m\u001b[38;5;241;43m*\u001b[39;49m\u001b[43mkwargs\u001b[49m\u001b[43m)\u001b[49m\n",
      "File \u001b[1;32mc:\\Users\\alexm\\AppData\\Local\\Programs\\Python\\Python311\\Lib\\site-packages\\sklearn\\linear_model\\_glm\\glm.py:191\u001b[0m, in \u001b[0;36m_GeneralizedLinearRegressor.fit\u001b[1;34m(self, X, y, sample_weight)\u001b[0m\n\u001b[0;32m    171\u001b[0m \u001b[38;5;129m@_fit_context\u001b[39m(prefer_skip_nested_validation\u001b[38;5;241m=\u001b[39m\u001b[38;5;28;01mTrue\u001b[39;00m)\n\u001b[0;32m    172\u001b[0m \u001b[38;5;28;01mdef\u001b[39;00m \u001b[38;5;21mfit\u001b[39m(\u001b[38;5;28mself\u001b[39m, X, y, sample_weight\u001b[38;5;241m=\u001b[39m\u001b[38;5;28;01mNone\u001b[39;00m):\n\u001b[0;32m    173\u001b[0m \u001b[38;5;250m    \u001b[39m\u001b[38;5;124;03m\"\"\"Fit a Generalized Linear Model.\u001b[39;00m\n\u001b[0;32m    174\u001b[0m \n\u001b[0;32m    175\u001b[0m \u001b[38;5;124;03m    Parameters\u001b[39;00m\n\u001b[1;32m   (...)\u001b[0m\n\u001b[0;32m    189\u001b[0m \u001b[38;5;124;03m        Fitted model.\u001b[39;00m\n\u001b[0;32m    190\u001b[0m \u001b[38;5;124;03m    \"\"\"\u001b[39;00m\n\u001b[1;32m--> 191\u001b[0m     X, y \u001b[38;5;241m=\u001b[39m \u001b[38;5;28;43mself\u001b[39;49m\u001b[38;5;241;43m.\u001b[39;49m\u001b[43m_validate_data\u001b[49m\u001b[43m(\u001b[49m\n\u001b[0;32m    192\u001b[0m \u001b[43m        \u001b[49m\u001b[43mX\u001b[49m\u001b[43m,\u001b[49m\n\u001b[0;32m    193\u001b[0m \u001b[43m        \u001b[49m\u001b[43my\u001b[49m\u001b[43m,\u001b[49m\n\u001b[0;32m    194\u001b[0m \u001b[43m        \u001b[49m\u001b[43maccept_sparse\u001b[49m\u001b[38;5;241;43m=\u001b[39;49m\u001b[43m[\u001b[49m\u001b[38;5;124;43m\"\u001b[39;49m\u001b[38;5;124;43mcsc\u001b[39;49m\u001b[38;5;124;43m\"\u001b[39;49m\u001b[43m,\u001b[49m\u001b[43m \u001b[49m\u001b[38;5;124;43m\"\u001b[39;49m\u001b[38;5;124;43mcsr\u001b[39;49m\u001b[38;5;124;43m\"\u001b[39;49m\u001b[43m]\u001b[49m\u001b[43m,\u001b[49m\n\u001b[0;32m    195\u001b[0m \u001b[43m        \u001b[49m\u001b[43mdtype\u001b[49m\u001b[38;5;241;43m=\u001b[39;49m\u001b[43m[\u001b[49m\u001b[43mnp\u001b[49m\u001b[38;5;241;43m.\u001b[39;49m\u001b[43mfloat64\u001b[49m\u001b[43m,\u001b[49m\u001b[43m \u001b[49m\u001b[43mnp\u001b[49m\u001b[38;5;241;43m.\u001b[39;49m\u001b[43mfloat32\u001b[49m\u001b[43m]\u001b[49m\u001b[43m,\u001b[49m\n\u001b[0;32m    196\u001b[0m \u001b[43m        \u001b[49m\u001b[43my_numeric\u001b[49m\u001b[38;5;241;43m=\u001b[39;49m\u001b[38;5;28;43;01mTrue\u001b[39;49;00m\u001b[43m,\u001b[49m\n\u001b[0;32m    197\u001b[0m \u001b[43m        \u001b[49m\u001b[43mmulti_output\u001b[49m\u001b[38;5;241;43m=\u001b[39;49m\u001b[38;5;28;43;01mFalse\u001b[39;49;00m\u001b[43m,\u001b[49m\n\u001b[0;32m    198\u001b[0m \u001b[43m    \u001b[49m\u001b[43m)\u001b[49m\n\u001b[0;32m    200\u001b[0m     \u001b[38;5;66;03m# required by losses\u001b[39;00m\n\u001b[0;32m    201\u001b[0m     \u001b[38;5;28;01mif\u001b[39;00m \u001b[38;5;28mself\u001b[39m\u001b[38;5;241m.\u001b[39msolver \u001b[38;5;241m==\u001b[39m \u001b[38;5;124m\"\u001b[39m\u001b[38;5;124mlbfgs\u001b[39m\u001b[38;5;124m\"\u001b[39m:\n\u001b[0;32m    202\u001b[0m         \u001b[38;5;66;03m# lbfgs will force coef and therefore raw_prediction to be float64. The\u001b[39;00m\n\u001b[0;32m    203\u001b[0m         \u001b[38;5;66;03m# base_loss needs y, X @ coef and sample_weight all of same dtype\u001b[39;00m\n\u001b[0;32m    204\u001b[0m         \u001b[38;5;66;03m# (and contiguous).\u001b[39;00m\n",
      "File \u001b[1;32mc:\\Users\\alexm\\AppData\\Local\\Programs\\Python\\Python311\\Lib\\site-packages\\sklearn\\base.py:622\u001b[0m, in \u001b[0;36mBaseEstimator._validate_data\u001b[1;34m(self, X, y, reset, validate_separately, cast_to_ndarray, **check_params)\u001b[0m\n\u001b[0;32m    620\u001b[0m         y \u001b[38;5;241m=\u001b[39m check_array(y, input_name\u001b[38;5;241m=\u001b[39m\u001b[38;5;124m\"\u001b[39m\u001b[38;5;124my\u001b[39m\u001b[38;5;124m\"\u001b[39m, \u001b[38;5;241m*\u001b[39m\u001b[38;5;241m*\u001b[39mcheck_y_params)\n\u001b[0;32m    621\u001b[0m     \u001b[38;5;28;01melse\u001b[39;00m:\n\u001b[1;32m--> 622\u001b[0m         X, y \u001b[38;5;241m=\u001b[39m \u001b[43mcheck_X_y\u001b[49m\u001b[43m(\u001b[49m\u001b[43mX\u001b[49m\u001b[43m,\u001b[49m\u001b[43m \u001b[49m\u001b[43my\u001b[49m\u001b[43m,\u001b[49m\u001b[43m \u001b[49m\u001b[38;5;241;43m*\u001b[39;49m\u001b[38;5;241;43m*\u001b[39;49m\u001b[43mcheck_params\u001b[49m\u001b[43m)\u001b[49m\n\u001b[0;32m    623\u001b[0m     out \u001b[38;5;241m=\u001b[39m X, y\n\u001b[0;32m    625\u001b[0m \u001b[38;5;28;01mif\u001b[39;00m \u001b[38;5;129;01mnot\u001b[39;00m no_val_X \u001b[38;5;129;01mand\u001b[39;00m check_params\u001b[38;5;241m.\u001b[39mget(\u001b[38;5;124m\"\u001b[39m\u001b[38;5;124mensure_2d\u001b[39m\u001b[38;5;124m\"\u001b[39m, \u001b[38;5;28;01mTrue\u001b[39;00m):\n",
      "File \u001b[1;32mc:\\Users\\alexm\\AppData\\Local\\Programs\\Python\\Python311\\Lib\\site-packages\\sklearn\\utils\\validation.py:1146\u001b[0m, in \u001b[0;36mcheck_X_y\u001b[1;34m(X, y, accept_sparse, accept_large_sparse, dtype, order, copy, force_all_finite, ensure_2d, allow_nd, multi_output, ensure_min_samples, ensure_min_features, y_numeric, estimator)\u001b[0m\n\u001b[0;32m   1141\u001b[0m         estimator_name \u001b[38;5;241m=\u001b[39m _check_estimator_name(estimator)\n\u001b[0;32m   1142\u001b[0m     \u001b[38;5;28;01mraise\u001b[39;00m \u001b[38;5;167;01mValueError\u001b[39;00m(\n\u001b[0;32m   1143\u001b[0m         \u001b[38;5;124mf\u001b[39m\u001b[38;5;124m\"\u001b[39m\u001b[38;5;132;01m{\u001b[39;00mestimator_name\u001b[38;5;132;01m}\u001b[39;00m\u001b[38;5;124m requires y to be passed, but the target y is None\u001b[39m\u001b[38;5;124m\"\u001b[39m\n\u001b[0;32m   1144\u001b[0m     )\n\u001b[1;32m-> 1146\u001b[0m X \u001b[38;5;241m=\u001b[39m \u001b[43mcheck_array\u001b[49m\u001b[43m(\u001b[49m\n\u001b[0;32m   1147\u001b[0m \u001b[43m    \u001b[49m\u001b[43mX\u001b[49m\u001b[43m,\u001b[49m\n\u001b[0;32m   1148\u001b[0m \u001b[43m    \u001b[49m\u001b[43maccept_sparse\u001b[49m\u001b[38;5;241;43m=\u001b[39;49m\u001b[43maccept_sparse\u001b[49m\u001b[43m,\u001b[49m\n\u001b[0;32m   1149\u001b[0m \u001b[43m    \u001b[49m\u001b[43maccept_large_sparse\u001b[49m\u001b[38;5;241;43m=\u001b[39;49m\u001b[43maccept_large_sparse\u001b[49m\u001b[43m,\u001b[49m\n\u001b[0;32m   1150\u001b[0m \u001b[43m    \u001b[49m\u001b[43mdtype\u001b[49m\u001b[38;5;241;43m=\u001b[39;49m\u001b[43mdtype\u001b[49m\u001b[43m,\u001b[49m\n\u001b[0;32m   1151\u001b[0m \u001b[43m    \u001b[49m\u001b[43morder\u001b[49m\u001b[38;5;241;43m=\u001b[39;49m\u001b[43morder\u001b[49m\u001b[43m,\u001b[49m\n\u001b[0;32m   1152\u001b[0m \u001b[43m    \u001b[49m\u001b[43mcopy\u001b[49m\u001b[38;5;241;43m=\u001b[39;49m\u001b[43mcopy\u001b[49m\u001b[43m,\u001b[49m\n\u001b[0;32m   1153\u001b[0m \u001b[43m    \u001b[49m\u001b[43mforce_all_finite\u001b[49m\u001b[38;5;241;43m=\u001b[39;49m\u001b[43mforce_all_finite\u001b[49m\u001b[43m,\u001b[49m\n\u001b[0;32m   1154\u001b[0m \u001b[43m    \u001b[49m\u001b[43mensure_2d\u001b[49m\u001b[38;5;241;43m=\u001b[39;49m\u001b[43mensure_2d\u001b[49m\u001b[43m,\u001b[49m\n\u001b[0;32m   1155\u001b[0m \u001b[43m    \u001b[49m\u001b[43mallow_nd\u001b[49m\u001b[38;5;241;43m=\u001b[39;49m\u001b[43mallow_nd\u001b[49m\u001b[43m,\u001b[49m\n\u001b[0;32m   1156\u001b[0m \u001b[43m    \u001b[49m\u001b[43mensure_min_samples\u001b[49m\u001b[38;5;241;43m=\u001b[39;49m\u001b[43mensure_min_samples\u001b[49m\u001b[43m,\u001b[49m\n\u001b[0;32m   1157\u001b[0m \u001b[43m    \u001b[49m\u001b[43mensure_min_features\u001b[49m\u001b[38;5;241;43m=\u001b[39;49m\u001b[43mensure_min_features\u001b[49m\u001b[43m,\u001b[49m\n\u001b[0;32m   1158\u001b[0m \u001b[43m    \u001b[49m\u001b[43mestimator\u001b[49m\u001b[38;5;241;43m=\u001b[39;49m\u001b[43mestimator\u001b[49m\u001b[43m,\u001b[49m\n\u001b[0;32m   1159\u001b[0m \u001b[43m    \u001b[49m\u001b[43minput_name\u001b[49m\u001b[38;5;241;43m=\u001b[39;49m\u001b[38;5;124;43m\"\u001b[39;49m\u001b[38;5;124;43mX\u001b[39;49m\u001b[38;5;124;43m\"\u001b[39;49m\u001b[43m,\u001b[49m\n\u001b[0;32m   1160\u001b[0m \u001b[43m\u001b[49m\u001b[43m)\u001b[49m\n\u001b[0;32m   1162\u001b[0m y \u001b[38;5;241m=\u001b[39m _check_y(y, multi_output\u001b[38;5;241m=\u001b[39mmulti_output, y_numeric\u001b[38;5;241m=\u001b[39my_numeric, estimator\u001b[38;5;241m=\u001b[39mestimator)\n\u001b[0;32m   1164\u001b[0m check_consistent_length(X, y)\n",
      "File \u001b[1;32mc:\\Users\\alexm\\AppData\\Local\\Programs\\Python\\Python311\\Lib\\site-packages\\sklearn\\utils\\validation.py:957\u001b[0m, in \u001b[0;36mcheck_array\u001b[1;34m(array, accept_sparse, accept_large_sparse, dtype, order, copy, force_all_finite, ensure_2d, allow_nd, ensure_min_samples, ensure_min_features, estimator, input_name)\u001b[0m\n\u001b[0;32m    951\u001b[0m         \u001b[38;5;28;01mraise\u001b[39;00m \u001b[38;5;167;01mValueError\u001b[39;00m(\n\u001b[0;32m    952\u001b[0m             \u001b[38;5;124m\"\u001b[39m\u001b[38;5;124mFound array with dim \u001b[39m\u001b[38;5;132;01m%d\u001b[39;00m\u001b[38;5;124m. \u001b[39m\u001b[38;5;132;01m%s\u001b[39;00m\u001b[38;5;124m expected <= 2.\u001b[39m\u001b[38;5;124m\"\u001b[39m\n\u001b[0;32m    953\u001b[0m             \u001b[38;5;241m%\u001b[39m (array\u001b[38;5;241m.\u001b[39mndim, estimator_name)\n\u001b[0;32m    954\u001b[0m         )\n\u001b[0;32m    956\u001b[0m     \u001b[38;5;28;01mif\u001b[39;00m force_all_finite:\n\u001b[1;32m--> 957\u001b[0m         \u001b[43m_assert_all_finite\u001b[49m\u001b[43m(\u001b[49m\n\u001b[0;32m    958\u001b[0m \u001b[43m            \u001b[49m\u001b[43marray\u001b[49m\u001b[43m,\u001b[49m\n\u001b[0;32m    959\u001b[0m \u001b[43m            \u001b[49m\u001b[43minput_name\u001b[49m\u001b[38;5;241;43m=\u001b[39;49m\u001b[43minput_name\u001b[49m\u001b[43m,\u001b[49m\n\u001b[0;32m    960\u001b[0m \u001b[43m            \u001b[49m\u001b[43mestimator_name\u001b[49m\u001b[38;5;241;43m=\u001b[39;49m\u001b[43mestimator_name\u001b[49m\u001b[43m,\u001b[49m\n\u001b[0;32m    961\u001b[0m \u001b[43m            \u001b[49m\u001b[43mallow_nan\u001b[49m\u001b[38;5;241;43m=\u001b[39;49m\u001b[43mforce_all_finite\u001b[49m\u001b[43m \u001b[49m\u001b[38;5;241;43m==\u001b[39;49m\u001b[43m \u001b[49m\u001b[38;5;124;43m\"\u001b[39;49m\u001b[38;5;124;43mallow-nan\u001b[39;49m\u001b[38;5;124;43m\"\u001b[39;49m\u001b[43m,\u001b[49m\n\u001b[0;32m    962\u001b[0m \u001b[43m        \u001b[49m\u001b[43m)\u001b[49m\n\u001b[0;32m    964\u001b[0m \u001b[38;5;28;01mif\u001b[39;00m ensure_min_samples \u001b[38;5;241m>\u001b[39m \u001b[38;5;241m0\u001b[39m:\n\u001b[0;32m    965\u001b[0m     n_samples \u001b[38;5;241m=\u001b[39m _num_samples(array)\n",
      "File \u001b[1;32mc:\\Users\\alexm\\AppData\\Local\\Programs\\Python\\Python311\\Lib\\site-packages\\sklearn\\utils\\validation.py:122\u001b[0m, in \u001b[0;36m_assert_all_finite\u001b[1;34m(X, allow_nan, msg_dtype, estimator_name, input_name)\u001b[0m\n\u001b[0;32m    119\u001b[0m \u001b[38;5;28;01mif\u001b[39;00m first_pass_isfinite:\n\u001b[0;32m    120\u001b[0m     \u001b[38;5;28;01mreturn\u001b[39;00m\n\u001b[1;32m--> 122\u001b[0m \u001b[43m_assert_all_finite_element_wise\u001b[49m\u001b[43m(\u001b[49m\n\u001b[0;32m    123\u001b[0m \u001b[43m    \u001b[49m\u001b[43mX\u001b[49m\u001b[43m,\u001b[49m\n\u001b[0;32m    124\u001b[0m \u001b[43m    \u001b[49m\u001b[43mxp\u001b[49m\u001b[38;5;241;43m=\u001b[39;49m\u001b[43mxp\u001b[49m\u001b[43m,\u001b[49m\n\u001b[0;32m    125\u001b[0m \u001b[43m    \u001b[49m\u001b[43mallow_nan\u001b[49m\u001b[38;5;241;43m=\u001b[39;49m\u001b[43mallow_nan\u001b[49m\u001b[43m,\u001b[49m\n\u001b[0;32m    126\u001b[0m \u001b[43m    \u001b[49m\u001b[43mmsg_dtype\u001b[49m\u001b[38;5;241;43m=\u001b[39;49m\u001b[43mmsg_dtype\u001b[49m\u001b[43m,\u001b[49m\n\u001b[0;32m    127\u001b[0m \u001b[43m    \u001b[49m\u001b[43mestimator_name\u001b[49m\u001b[38;5;241;43m=\u001b[39;49m\u001b[43mestimator_name\u001b[49m\u001b[43m,\u001b[49m\n\u001b[0;32m    128\u001b[0m \u001b[43m    \u001b[49m\u001b[43minput_name\u001b[49m\u001b[38;5;241;43m=\u001b[39;49m\u001b[43minput_name\u001b[49m\u001b[43m,\u001b[49m\n\u001b[0;32m    129\u001b[0m \u001b[43m\u001b[49m\u001b[43m)\u001b[49m\n",
      "File \u001b[1;32mc:\\Users\\alexm\\AppData\\Local\\Programs\\Python\\Python311\\Lib\\site-packages\\sklearn\\utils\\validation.py:171\u001b[0m, in \u001b[0;36m_assert_all_finite_element_wise\u001b[1;34m(X, xp, allow_nan, msg_dtype, estimator_name, input_name)\u001b[0m\n\u001b[0;32m    154\u001b[0m \u001b[38;5;28;01mif\u001b[39;00m estimator_name \u001b[38;5;129;01mand\u001b[39;00m input_name \u001b[38;5;241m==\u001b[39m \u001b[38;5;124m\"\u001b[39m\u001b[38;5;124mX\u001b[39m\u001b[38;5;124m\"\u001b[39m \u001b[38;5;129;01mand\u001b[39;00m has_nan_error:\n\u001b[0;32m    155\u001b[0m     \u001b[38;5;66;03m# Improve the error message on how to handle missing values in\u001b[39;00m\n\u001b[0;32m    156\u001b[0m     \u001b[38;5;66;03m# scikit-learn.\u001b[39;00m\n\u001b[0;32m    157\u001b[0m     msg_err \u001b[38;5;241m+\u001b[39m\u001b[38;5;241m=\u001b[39m (\n\u001b[0;32m    158\u001b[0m         \u001b[38;5;124mf\u001b[39m\u001b[38;5;124m\"\u001b[39m\u001b[38;5;130;01m\\n\u001b[39;00m\u001b[38;5;132;01m{\u001b[39;00mestimator_name\u001b[38;5;132;01m}\u001b[39;00m\u001b[38;5;124m does not accept missing values\u001b[39m\u001b[38;5;124m\"\u001b[39m\n\u001b[0;32m    159\u001b[0m         \u001b[38;5;124m\"\u001b[39m\u001b[38;5;124m encoded as NaN natively. For supervised learning, you might want\u001b[39m\u001b[38;5;124m\"\u001b[39m\n\u001b[1;32m   (...)\u001b[0m\n\u001b[0;32m    169\u001b[0m         \u001b[38;5;124m\"\u001b[39m\u001b[38;5;124m#estimators-that-handle-nan-values\u001b[39m\u001b[38;5;124m\"\u001b[39m\n\u001b[0;32m    170\u001b[0m     )\n\u001b[1;32m--> 171\u001b[0m \u001b[38;5;28;01mraise\u001b[39;00m \u001b[38;5;167;01mValueError\u001b[39;00m(msg_err)\n",
      "\u001b[1;31mValueError\u001b[0m: Input X contains NaN.\nGammaRegressor does not accept missing values encoded as NaN natively. For supervised learning, you might want to consider sklearn.ensemble.HistGradientBoostingClassifier and Regressor which accept missing values encoded as NaNs natively. Alternatively, it is possible to preprocess the data, for instance by using an imputer transformer in a pipeline or drop samples with missing values. See https://scikit-learn.org/stable/modules/impute.html You can find a list of all estimators that handle NaN values at the following page: https://scikit-learn.org/stable/modules/impute.html#estimators-that-handle-nan-values"
     ]
    }
   ],
   "source": [
    "from sklearn.linear_model import GammaRegressor\n",
    "\n",
    "reg = GammaRegressor().fit(X_train, y_train)\n",
    "y_pred = reg.predict(X_test)\n",
    "mse = mean_squared_error(y_test, y_pred)\n",
    "print(mse)"
   ]
  },
  {
   "cell_type": "code",
   "execution_count": null,
   "metadata": {},
   "outputs": [],
   "source": []
  }
 ],
 "metadata": {
  "kernelspec": {
   "display_name": "Python 3",
   "language": "python",
   "name": "python3"
  },
  "language_info": {
   "codemirror_mode": {
    "name": "ipython",
    "version": 3
   },
   "file_extension": ".py",
   "mimetype": "text/x-python",
   "name": "python",
   "nbconvert_exporter": "python",
   "pygments_lexer": "ipython3",
   "version": "3.11.1"
  }
 },
 "nbformat": 4,
 "nbformat_minor": 2
}
