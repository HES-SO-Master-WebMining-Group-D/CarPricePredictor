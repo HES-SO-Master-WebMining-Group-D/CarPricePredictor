{
 "cells": [
  {
   "cell_type": "markdown",
   "source": [
    "# Model selection"
   ],
   "metadata": {
    "collapsed": false
   }
  },
  {
   "cell_type": "code",
   "outputs": [],
   "source": [
    "import pandas as pd\n",
    "import numpy as np\n",
    "import matplotlib.pyplot as plt\n",
    "from sklearn.model_selection import train_test_split\n",
    "from sklearn.ensemble import RandomForestRegressor\n",
    "from sklearn.metrics import mean_squared_error\n",
    "from xgboost import XGBRegressor\n",
    "from sklearn.model_selection import GridSearchCV\n",
    "import joblib"
   ],
   "metadata": {
    "collapsed": false
   }
  },
  {
   "cell_type": "markdown",
   "metadata": {},
   "source": [
    "# Preprocessing"
   ]
  },
  {
   "cell_type": "code",
   "execution_count": 3,
   "metadata": {},
   "outputs": [
    {
     "data": {
      "text/html": [
       "<div>\n",
       "<style scoped>\n",
       "    .dataframe tbody tr th:only-of-type {\n",
       "        vertical-align: middle;\n",
       "    }\n",
       "\n",
       "    .dataframe tbody tr th {\n",
       "        vertical-align: top;\n",
       "    }\n",
       "\n",
       "    .dataframe thead th {\n",
       "        text-align: right;\n",
       "    }\n",
       "</style>\n",
       "<table border=\"1\" class=\"dataframe\">\n",
       "  <thead>\n",
       "    <tr style=\"text-align: right;\">\n",
       "      <th></th>\n",
       "      <th>url</th>\n",
       "      <th>brand</th>\n",
       "      <th>model</th>\n",
       "      <th>price</th>\n",
       "      <th>mileage</th>\n",
       "      <th>fuel_type</th>\n",
       "      <th>color</th>\n",
       "      <th>gearbox</th>\n",
       "      <th>power</th>\n",
       "      <th>engine_size</th>\n",
       "      <th>seller</th>\n",
       "      <th>body_type</th>\n",
       "      <th>doors</th>\n",
       "      <th>seats</th>\n",
       "      <th>drivetrain</th>\n",
       "      <th>emission_class</th>\n",
       "      <th>condition</th>\n",
       "      <th>upholstery_color</th>\n",
       "      <th>year</th>\n",
       "      <th>country</th>\n",
       "    </tr>\n",
       "  </thead>\n",
       "  <tbody>\n",
       "    <tr>\n",
       "      <th>0</th>\n",
       "      <td>https://www.autoscout24.com/offers/alfa-romeo-...</td>\n",
       "      <td>alfa romeo</td>\n",
       "      <td>159</td>\n",
       "      <td>5500.0</td>\n",
       "      <td>233685.0</td>\n",
       "      <td>diesel</td>\n",
       "      <td>red</td>\n",
       "      <td>manual</td>\n",
       "      <td>136.0</td>\n",
       "      <td>1956.0</td>\n",
       "      <td>dealer</td>\n",
       "      <td>sedan</td>\n",
       "      <td>4</td>\n",
       "      <td>5</td>\n",
       "      <td>front</td>\n",
       "      <td>134.000000</td>\n",
       "      <td>used</td>\n",
       "      <td>metallic</td>\n",
       "      <td>2011.0</td>\n",
       "      <td>it</td>\n",
       "    </tr>\n",
       "    <tr>\n",
       "      <th>1</th>\n",
       "      <td>https://www.autoscout24.com/offers/alfa-romeo-...</td>\n",
       "      <td>alfa romeo</td>\n",
       "      <td>159</td>\n",
       "      <td>13990.0</td>\n",
       "      <td>134000.0</td>\n",
       "      <td>gasoline</td>\n",
       "      <td>red</td>\n",
       "      <td>manual</td>\n",
       "      <td>200.0</td>\n",
       "      <td>1742.0</td>\n",
       "      <td>dealer</td>\n",
       "      <td>sedan</td>\n",
       "      <td>4</td>\n",
       "      <td>5</td>\n",
       "      <td>front</td>\n",
       "      <td>160.222222</td>\n",
       "      <td>used</td>\n",
       "      <td>metallic</td>\n",
       "      <td>2010.0</td>\n",
       "      <td>es</td>\n",
       "    </tr>\n",
       "    <tr>\n",
       "      <th>2</th>\n",
       "      <td>https://www.autoscout24.com/offers/renault-oth...</td>\n",
       "      <td>renault</td>\n",
       "      <td>clio</td>\n",
       "      <td>2300.0</td>\n",
       "      <td>27000.0</td>\n",
       "      <td>gasoline</td>\n",
       "      <td>yellow</td>\n",
       "      <td>manual</td>\n",
       "      <td>80.0</td>\n",
       "      <td>800.0</td>\n",
       "      <td>dealer</td>\n",
       "      <td>sedan</td>\n",
       "      <td>5</td>\n",
       "      <td>5</td>\n",
       "      <td>front</td>\n",
       "      <td>120.425532</td>\n",
       "      <td>used</td>\n",
       "      <td>alcantara</td>\n",
       "      <td>1963.0</td>\n",
       "      <td>be</td>\n",
       "    </tr>\n",
       "    <tr>\n",
       "      <th>3</th>\n",
       "      <td>https://www.autoscout24.com/offers/opel-antara...</td>\n",
       "      <td>opel</td>\n",
       "      <td>antara</td>\n",
       "      <td>3499.0</td>\n",
       "      <td>212575.0</td>\n",
       "      <td>gasoline</td>\n",
       "      <td>black</td>\n",
       "      <td>manual</td>\n",
       "      <td>140.0</td>\n",
       "      <td>2405.0</td>\n",
       "      <td>dealer</td>\n",
       "      <td>off-road/pick-up</td>\n",
       "      <td>5</td>\n",
       "      <td>5</td>\n",
       "      <td>4wd</td>\n",
       "      <td>229.000000</td>\n",
       "      <td>used</td>\n",
       "      <td>metallic</td>\n",
       "      <td>2008.0</td>\n",
       "      <td>nl</td>\n",
       "    </tr>\n",
       "    <tr>\n",
       "      <th>4</th>\n",
       "      <td>https://www.autoscout24.com/offers/alfa-romeo-...</td>\n",
       "      <td>alfa romeo</td>\n",
       "      <td>giulia</td>\n",
       "      <td>39800.0</td>\n",
       "      <td>7100.0</td>\n",
       "      <td>gasoline</td>\n",
       "      <td>white</td>\n",
       "      <td>automatic</td>\n",
       "      <td>280.0</td>\n",
       "      <td>1995.0</td>\n",
       "      <td>dealer</td>\n",
       "      <td>sedan</td>\n",
       "      <td>4</td>\n",
       "      <td>4</td>\n",
       "      <td>front</td>\n",
       "      <td>136.750000</td>\n",
       "      <td>employee's car</td>\n",
       "      <td>black</td>\n",
       "      <td>2023.0</td>\n",
       "      <td>de</td>\n",
       "    </tr>\n",
       "  </tbody>\n",
       "</table>\n",
       "</div>"
      ],
      "text/plain": [
       "                                                 url       brand   model  \\\n",
       "0  https://www.autoscout24.com/offers/alfa-romeo-...  alfa romeo     159   \n",
       "1  https://www.autoscout24.com/offers/alfa-romeo-...  alfa romeo     159   \n",
       "2  https://www.autoscout24.com/offers/renault-oth...     renault    clio   \n",
       "3  https://www.autoscout24.com/offers/opel-antara...        opel  antara   \n",
       "4  https://www.autoscout24.com/offers/alfa-romeo-...  alfa romeo  giulia   \n",
       "\n",
       "     price   mileage fuel_type   color    gearbox  power  engine_size  seller  \\\n",
       "0   5500.0  233685.0    diesel     red     manual  136.0       1956.0  dealer   \n",
       "1  13990.0  134000.0  gasoline     red     manual  200.0       1742.0  dealer   \n",
       "2   2300.0   27000.0  gasoline  yellow     manual   80.0        800.0  dealer   \n",
       "3   3499.0  212575.0  gasoline   black     manual  140.0       2405.0  dealer   \n",
       "4  39800.0    7100.0  gasoline   white  automatic  280.0       1995.0  dealer   \n",
       "\n",
       "          body_type  doors  seats drivetrain  emission_class       condition  \\\n",
       "0             sedan      4      5      front      134.000000            used   \n",
       "1             sedan      4      5      front      160.222222            used   \n",
       "2             sedan      5      5      front      120.425532            used   \n",
       "3  off-road/pick-up      5      5        4wd      229.000000            used   \n",
       "4             sedan      4      4      front      136.750000  employee's car   \n",
       "\n",
       "  upholstery_color    year country  \n",
       "0         metallic  2011.0      it  \n",
       "1         metallic  2010.0      es  \n",
       "2        alcantara  1963.0      be  \n",
       "3         metallic  2008.0      nl  \n",
       "4            black  2023.0      de  "
      ]
     },
     "execution_count": 3,
     "metadata": {},
     "output_type": "execute_result"
    }
   ],
   "source": [
    "df = pd.read_csv('../data/cleaned_cars.csv')\n",
    "\n",
    "df.head()"
   ]
  },
  {
   "cell_type": "code",
   "execution_count": 4,
   "metadata": {},
   "outputs": [
    {
     "data": {
      "text/html": [
       "<div>\n",
       "<style scoped>\n",
       "    .dataframe tbody tr th:only-of-type {\n",
       "        vertical-align: middle;\n",
       "    }\n",
       "\n",
       "    .dataframe tbody tr th {\n",
       "        vertical-align: top;\n",
       "    }\n",
       "\n",
       "    .dataframe thead th {\n",
       "        text-align: right;\n",
       "    }\n",
       "</style>\n",
       "<table border=\"1\" class=\"dataframe\">\n",
       "  <thead>\n",
       "    <tr style=\"text-align: right;\">\n",
       "      <th></th>\n",
       "      <th>brand</th>\n",
       "      <th>model</th>\n",
       "      <th>price</th>\n",
       "      <th>mileage</th>\n",
       "      <th>fuel_type</th>\n",
       "      <th>color</th>\n",
       "      <th>gearbox</th>\n",
       "      <th>power</th>\n",
       "      <th>engine_size</th>\n",
       "      <th>seller</th>\n",
       "      <th>body_type</th>\n",
       "      <th>doors</th>\n",
       "      <th>seats</th>\n",
       "      <th>drivetrain</th>\n",
       "      <th>emission_class</th>\n",
       "      <th>condition</th>\n",
       "      <th>upholstery_color</th>\n",
       "      <th>year</th>\n",
       "      <th>country</th>\n",
       "    </tr>\n",
       "  </thead>\n",
       "  <tbody>\n",
       "    <tr>\n",
       "      <th>0</th>\n",
       "      <td>alfa romeo</td>\n",
       "      <td>159</td>\n",
       "      <td>5500.0</td>\n",
       "      <td>233685.0</td>\n",
       "      <td>diesel</td>\n",
       "      <td>red</td>\n",
       "      <td>manual</td>\n",
       "      <td>136.0</td>\n",
       "      <td>1956.0</td>\n",
       "      <td>dealer</td>\n",
       "      <td>sedan</td>\n",
       "      <td>4</td>\n",
       "      <td>5</td>\n",
       "      <td>front</td>\n",
       "      <td>134.000000</td>\n",
       "      <td>used</td>\n",
       "      <td>metallic</td>\n",
       "      <td>2011.0</td>\n",
       "      <td>it</td>\n",
       "    </tr>\n",
       "    <tr>\n",
       "      <th>1</th>\n",
       "      <td>alfa romeo</td>\n",
       "      <td>159</td>\n",
       "      <td>13990.0</td>\n",
       "      <td>134000.0</td>\n",
       "      <td>gasoline</td>\n",
       "      <td>red</td>\n",
       "      <td>manual</td>\n",
       "      <td>200.0</td>\n",
       "      <td>1742.0</td>\n",
       "      <td>dealer</td>\n",
       "      <td>sedan</td>\n",
       "      <td>4</td>\n",
       "      <td>5</td>\n",
       "      <td>front</td>\n",
       "      <td>160.222222</td>\n",
       "      <td>used</td>\n",
       "      <td>metallic</td>\n",
       "      <td>2010.0</td>\n",
       "      <td>es</td>\n",
       "    </tr>\n",
       "    <tr>\n",
       "      <th>2</th>\n",
       "      <td>renault</td>\n",
       "      <td>clio</td>\n",
       "      <td>2300.0</td>\n",
       "      <td>27000.0</td>\n",
       "      <td>gasoline</td>\n",
       "      <td>yellow</td>\n",
       "      <td>manual</td>\n",
       "      <td>80.0</td>\n",
       "      <td>800.0</td>\n",
       "      <td>dealer</td>\n",
       "      <td>sedan</td>\n",
       "      <td>5</td>\n",
       "      <td>5</td>\n",
       "      <td>front</td>\n",
       "      <td>120.425532</td>\n",
       "      <td>used</td>\n",
       "      <td>alcantara</td>\n",
       "      <td>1963.0</td>\n",
       "      <td>be</td>\n",
       "    </tr>\n",
       "    <tr>\n",
       "      <th>3</th>\n",
       "      <td>opel</td>\n",
       "      <td>antara</td>\n",
       "      <td>3499.0</td>\n",
       "      <td>212575.0</td>\n",
       "      <td>gasoline</td>\n",
       "      <td>black</td>\n",
       "      <td>manual</td>\n",
       "      <td>140.0</td>\n",
       "      <td>2405.0</td>\n",
       "      <td>dealer</td>\n",
       "      <td>off-road/pick-up</td>\n",
       "      <td>5</td>\n",
       "      <td>5</td>\n",
       "      <td>4wd</td>\n",
       "      <td>229.000000</td>\n",
       "      <td>used</td>\n",
       "      <td>metallic</td>\n",
       "      <td>2008.0</td>\n",
       "      <td>nl</td>\n",
       "    </tr>\n",
       "    <tr>\n",
       "      <th>4</th>\n",
       "      <td>alfa romeo</td>\n",
       "      <td>giulia</td>\n",
       "      <td>39800.0</td>\n",
       "      <td>7100.0</td>\n",
       "      <td>gasoline</td>\n",
       "      <td>white</td>\n",
       "      <td>automatic</td>\n",
       "      <td>280.0</td>\n",
       "      <td>1995.0</td>\n",
       "      <td>dealer</td>\n",
       "      <td>sedan</td>\n",
       "      <td>4</td>\n",
       "      <td>4</td>\n",
       "      <td>front</td>\n",
       "      <td>136.750000</td>\n",
       "      <td>employee's car</td>\n",
       "      <td>black</td>\n",
       "      <td>2023.0</td>\n",
       "      <td>de</td>\n",
       "    </tr>\n",
       "  </tbody>\n",
       "</table>\n",
       "</div>"
      ],
      "text/plain": [
       "        brand   model    price   mileage fuel_type   color    gearbox  power  \\\n",
       "0  alfa romeo     159   5500.0  233685.0    diesel     red     manual  136.0   \n",
       "1  alfa romeo     159  13990.0  134000.0  gasoline     red     manual  200.0   \n",
       "2     renault    clio   2300.0   27000.0  gasoline  yellow     manual   80.0   \n",
       "3        opel  antara   3499.0  212575.0  gasoline   black     manual  140.0   \n",
       "4  alfa romeo  giulia  39800.0    7100.0  gasoline   white  automatic  280.0   \n",
       "\n",
       "   engine_size  seller         body_type  doors  seats drivetrain  \\\n",
       "0       1956.0  dealer             sedan      4      5      front   \n",
       "1       1742.0  dealer             sedan      4      5      front   \n",
       "2        800.0  dealer             sedan      5      5      front   \n",
       "3       2405.0  dealer  off-road/pick-up      5      5        4wd   \n",
       "4       1995.0  dealer             sedan      4      4      front   \n",
       "\n",
       "   emission_class       condition upholstery_color    year country  \n",
       "0      134.000000            used         metallic  2011.0      it  \n",
       "1      160.222222            used         metallic  2010.0      es  \n",
       "2      120.425532            used        alcantara  1963.0      be  \n",
       "3      229.000000            used         metallic  2008.0      nl  \n",
       "4      136.750000  employee's car            black  2023.0      de  "
      ]
     },
     "execution_count": 4,
     "metadata": {},
     "output_type": "execute_result"
    }
   ],
   "source": [
    "# Drop the url column\n",
    "df = df.drop('url', axis=1)\n",
    "\n",
    "df.head()"
   ]
  },
  {
   "cell_type": "code",
   "execution_count": 8,
   "metadata": {},
   "outputs": [
    {
     "data": {
      "text/plain": [
       "array(['it', 'es', 'be', 'nl', 'de', 'at', 'fr', 'lu'], dtype=object)"
      ]
     },
     "execution_count": 8,
     "metadata": {},
     "output_type": "execute_result"
    }
   ],
   "source": [
    "# Use a unique id for each model (brand + model)\n",
    "df['model'] = df['brand'] + '_' + df['model']"
   ]
  },
  {
   "cell_type": "code",
   "execution_count": 5,
   "metadata": {},
   "outputs": [],
   "source": [
    "# Shuffle the data\n",
    "df = df.sample(frac=1, random_state=0)"
   ]
  },
  {
   "cell_type": "code",
   "execution_count": 6,
   "metadata": {},
   "outputs": [],
   "source": [
    "# Columns to one-hot encode\n",
    "one_hot_encode_cols = ['brand', 'model', 'fuel_type', 'gearbox', 'color', 'seller', 'body_type', 'drivetrain', 'country', 'condition', 'upholstery_color']\n",
    "\n",
    "# One-hot encode the columns\n",
    "df = pd.get_dummies(df, columns=one_hot_encode_cols)"
   ]
  },
  {
   "cell_type": "code",
   "execution_count": 7,
   "metadata": {},
   "outputs": [
    {
     "name": "stdout",
     "output_type": "stream",
     "text": [
      "(7920, 1147)\n",
      "(2641, 1147)\n",
      "(2640, 1147)\n",
      "(7920,)\n",
      "(2641,)\n",
      "(2640,)\n"
     ]
    }
   ],
   "source": [
    "# Split the data into features and target\n",
    "y = df['price']\n",
    "X = df.drop('price', axis=1)\n",
    "\n",
    "# Split the data into training and testing sets \n",
    "X_train, X_test, y_train, y_test = train_test_split(X, y, test_size=0.4, random_state=42)\n",
    "\n",
    "X_test, X_val, y_test, y_val = train_test_split(X_test, y_test, test_size=0.5, random_state=42)\n",
    "\n",
    "# Convert the data to numpy arrays\n",
    "X_train = np.array(X_train)\n",
    "y_train = np.array(y_train)\n",
    "X_val = np.array(X_val)\n",
    "y_val = np.array(y_val)\n",
    "X_test = np.array(X_test)\n",
    "y_test = np.array(y_test)\n",
    "\n",
    "# Print shapes of the training, validation, and testing sets\n",
    "print(X_train.shape)\n",
    "print(X_val.shape)\n",
    "print(X_test.shape)\n",
    "\n",
    "print(y_train.shape)\n",
    "print(y_val.shape)\n",
    "print(y_test.shape)\n"
   ]
  },
  {
   "cell_type": "markdown",
   "metadata": {},
   "source": [
    "## Random forest"
   ]
  },
  {
   "cell_type": "code",
   "execution_count": 8,
   "metadata": {},
   "outputs": [
    {
     "name": "stdout",
     "output_type": "stream",
     "text": [
      "Train MSE: 6331068.1257335\n",
      "Validation MSE: 47802657.9817516\n"
     ]
    }
   ],
   "source": [
    "# Instantiate the model\n",
    "rf = RandomForestRegressor(random_state=42)\n",
    "\n",
    "# Fit the model\n",
    "rf.fit(X_train, y_train)\n",
    "\n",
    "# Make predictions\n",
    "train_preds = rf.predict(X_train)\n",
    "val_preds = rf.predict(X_val)\n",
    "\n",
    "# Calculate the mean squared error\n",
    "train_mse = mean_squared_error(y_train, train_preds)\n",
    "val_mse = mean_squared_error(y_val, val_preds)\n",
    "\n",
    "print('Train MSE:', train_mse)\n",
    "print('Validation MSE:', val_mse)"
   ]
  },
  {
   "cell_type": "code",
   "execution_count": 9,
   "metadata": {},
   "outputs": [
    {
     "name": "stdout",
     "output_type": "stream",
     "text": [
      "Test RMSE: 7072.4273513849075\n",
      "Test R2: 0.85762197432373\n",
      "Predicted: 16215.11\n",
      "Actual: 15900.0\n",
      "\n",
      "Predicted: 21775.15\n",
      "Actual: 22995.0\n",
      "\n",
      "Predicted: 14337.2\n",
      "Actual: 12900.0\n",
      "\n",
      "Predicted: 18217.83\n",
      "Actual: 17900.0\n",
      "\n",
      "Predicted: 21748.06\n",
      "Actual: 16990.0\n",
      "\n",
      "Predicted: 20705.13\n",
      "Actual: 29900.0\n",
      "\n",
      "Predicted: 24275.09\n",
      "Actual: 26900.0\n",
      "\n",
      "Predicted: 47011.6\n",
      "Actual: 48990.0\n",
      "\n",
      "Predicted: 9108.26\n",
      "Actual: 9800.0\n",
      "\n",
      "Predicted: 3767.73\n",
      "Actual: 5500.0\n",
      "\n",
      "Predicted: 9989.95\n",
      "Actual: 7900.0\n",
      "\n",
      "Predicted: 16343.41\n",
      "Actual: 16990.0\n",
      "\n",
      "Predicted: 54511.28\n",
      "Actual: 49990.0\n",
      "\n",
      "Predicted: 11346.7\n",
      "Actual: 9799.0\n",
      "\n",
      "Predicted: 22219.4\n",
      "Actual: 19950.0\n",
      "\n",
      "Predicted: 36401.57\n",
      "Actual: 36950.0\n",
      "\n",
      "Predicted: 26818.75\n",
      "Actual: 31500.0\n",
      "\n",
      "Predicted: 25752.72\n",
      "Actual: 23785.0\n",
      "\n",
      "Predicted: 68699.0\n",
      "Actual: 65500.0\n",
      "\n",
      "Predicted: 24056.11\n",
      "Actual: 17980.0\n"
     ]
    }
   ],
   "source": [
    "# Make predictions on the test set\n",
    "test_preds = rf.predict(X_test)\n",
    "\n",
    "# Print regression metrics\n",
    "test_mse = mean_squared_error(y_test, test_preds)\n",
    "print('Test RMSE:', np.sqrt(test_mse))  \n",
    "# r-squared\n",
    "from sklearn.metrics import r2_score\n",
    "r2 = r2_score(y_test, test_preds)\n",
    "print('Test R2:', r2)\n",
    "\n",
    "# Print the results on a few test set examples\n",
    "for i in range(20):\n",
    "    print('Predicted:', test_preds[i])\n",
    "    print('Actual:', y_test[i])\n",
    "    print()"
   ]
  },
  {
   "cell_type": "code",
   "execution_count": 10,
   "metadata": {},
   "outputs": [
    {
     "data": {
      "image/png": "[encoded data removed]",
      "text/plain": [
       "<Figure size 640x480 with 1 Axes>"
      ]
     },
     "metadata": {},
     "output_type": "display_data"
    }
   ],
   "source": [
    "# Plot the comparison between the actual and predicted prices\n",
    "plt.plot(y_test, label='Actual')\n",
    "plt.plot(test_preds, label='Predicted')\n",
    "plt.legend()\n",
    "plt.show()"
   ]
  },
  {
   "cell_type": "markdown",
   "metadata": {},
   "source": [
    "## XGboost regressor"
   ]
  },
  {
   "cell_type": "code",
   "execution_count": 11,
   "metadata": {},
   "outputs": [
    {
     "name": "stdout",
     "output_type": "stream",
     "text": [
      "Train MSE: 13202856.395162802\n",
      "Validation MSE: 42780050.413553335\n"
     ]
    }
   ],
   "source": [
    "# Instantiate the model\n",
    "xgb = XGBRegressor(random_state=42)\n",
    "\n",
    "# Fit the model\n",
    "xgb.fit(X_train, y_train)\n",
    "\n",
    "# Make predictions\n",
    "train_preds = xgb.predict(X_train)\n",
    "val_preds = xgb.predict(X_val)\n",
    "\n",
    "# Calculate the mean squared error\n",
    "train_mse = mean_squared_error(y_train, train_preds)\n",
    "val_mse = mean_squared_error(y_val, val_preds)\n",
    "\n",
    "print('Train MSE:', train_mse)\n",
    "print('Validation MSE:', val_mse)"
   ]
  },
  {
   "cell_type": "code",
   "execution_count": 12,
   "metadata": {},
   "outputs": [
    {
     "name": "stdout",
     "output_type": "stream",
     "text": [
      "Test RMSE: 6676.4879015180295\n",
      "Test R2: 0.8731173884169512\n",
      "Predicted: 15488.453\n",
      "Actual: 15900.0\n",
      "\n",
      "Predicted: 22155.021\n",
      "Actual: 22995.0\n",
      "\n",
      "Predicted: 15370.172\n",
      "Actual: 12900.0\n",
      "\n",
      "Predicted: 18103.9\n",
      "Actual: 17900.0\n",
      "\n",
      "Predicted: 17838.99\n",
      "Actual: 16990.0\n",
      "\n",
      "Predicted: 24198.865\n",
      "Actual: 29900.0\n",
      "\n",
      "Predicted: 24722.064\n",
      "Actual: 26900.0\n",
      "\n",
      "Predicted: 50963.22\n",
      "Actual: 48990.0\n",
      "\n",
      "Predicted: 9185.187\n",
      "Actual: 9800.0\n",
      "\n",
      "Predicted: 5145.492\n",
      "Actual: 5500.0\n",
      "\n",
      "Predicted: 10923.541\n",
      "Actual: 7900.0\n",
      "\n",
      "Predicted: 14282.551\n",
      "Actual: 16990.0\n",
      "\n",
      "Predicted: 51901.793\n",
      "Actual: 49990.0\n",
      "\n",
      "Predicted: 12340.439\n",
      "Actual: 9799.0\n",
      "\n",
      "Predicted: 19845.414\n",
      "Actual: 19950.0\n",
      "\n",
      "Predicted: 41164.664\n",
      "Actual: 36950.0\n",
      "\n",
      "Predicted: 25789.252\n",
      "Actual: 31500.0\n",
      "\n",
      "Predicted: 27988.67\n",
      "Actual: 23785.0\n",
      "\n",
      "Predicted: 74346.02\n",
      "Actual: 65500.0\n",
      "\n",
      "Predicted: 22146.82\n",
      "Actual: 17980.0\n"
     ]
    }
   ],
   "source": [
    "# Make predictions on the test set\n",
    "test_preds = xgb.predict(X_test)\n",
    "\n",
    "# Print regression metrics\n",
    "test_mse = mean_squared_error(y_test, test_preds)\n",
    "print('Test RMSE:', np.sqrt(test_mse))\n",
    "\n",
    "# r-squared\n",
    "r2 = r2_score(y_test, test_preds)\n",
    "print('Test R2:', r2)\n",
    "\n",
    "# Print the results on a few test set examples\n",
    "for i in range(20):\n",
    "    print('Predicted:', test_preds[i])\n",
    "    print('Actual:', y_test[i])\n",
    "    print()"
   ]
  },
  {
   "cell_type": "code",
   "execution_count": 13,
   "metadata": {},
   "outputs": [
    {
     "data": {
      "image/png": "[encoded data removed]",
      "text/plain": [
       "<Figure size 640x480 with 1 Axes>"
      ]
     },
     "metadata": {},
     "output_type": "display_data"
    }
   ],
   "source": [
    "# Plot a comparison of the actual and predicted prices\n",
    "plt.plot(y_test, label='Actual')\n",
    "plt.plot(test_preds, label='Predicted')\n",
    "plt.legend()\n",
    "plt.show()"
   ]
  },
  {
   "cell_type": "markdown",
   "metadata": {},
   "source": [
    "### Hyperparameters tuning"
   ]
  },
  {
   "cell_type": "code",
   "execution_count": 14,
   "metadata": {},
   "outputs": [
    {
     "name": "stdout",
     "output_type": "stream",
     "text": [
      "Fitting 3 folds for each of 729 candidates, totalling 2187 fits\n",
      "{'colsample_bytree': 0.6, 'gamma': 0, 'learning_rate': 0.1, 'max_depth': 9, 'n_estimators': 200, 'subsample': 0.8}\n",
      "0.881627622688923\n",
      "XGBRegressor(base_score=None, booster=None, callbacks=None,\n",
      "             colsample_bylevel=None, colsample_bynode=None,\n",
      "             colsample_bytree=0.6, device=None, early_stopping_rounds=None,\n",
      "             enable_categorical=False, eval_metric=None, feature_types=None,\n",
      "             gamma=0, grow_policy=None, importance_type=None,\n",
      "             interaction_constraints=None, learning_rate=0.1, max_bin=None,\n",
      "             max_cat_threshold=None, max_cat_to_onehot=None,\n",
      "             max_delta_step=None, max_depth=9, max_leaves=None,\n",
      "             min_child_weight=None, missing=nan, monotone_constraints=None,\n",
      "             multi_strategy=None, n_estimators=200, n_jobs=None,\n",
      "             num_parallel_tree=None, random_state=42, ...)\n"
     ]
    }
   ],
   "source": [
    "# Define a grid of hyperparameters\n",
    "param_grid = {\n",
    "    'n_estimators': [50, 100, 200],\n",
    "    'max_depth': [3, 6, 9],\n",
    "    'learning_rate': [0.1, 0.2, 0.3],\n",
    "    'colsample_bytree': [0.6, 0.8, 1],\n",
    "    'subsample': [0.6, 0.8, 1],\n",
    "    'gamma': [0, 1, 5],\n",
    "}\n",
    "\n",
    "# Instantiate the model\n",
    "xgb = XGBRegressor(random_state=42)\n",
    "\n",
    "# Grid search\n",
    "grid_search = GridSearchCV(estimator=xgb, param_grid=param_grid, cv=3, n_jobs=-1, verbose=2)\n",
    "grid_search.fit(X_train, y_train)\n",
    "\n",
    "# Print the best hyperparameters\n",
    "print(grid_search.best_params_)\n",
    "print(grid_search.best_score_)\n",
    "print(grid_search.best_estimator_)"
   ]
  },
  {
   "cell_type": "code",
   "execution_count": 15,
   "metadata": {},
   "outputs": [
    {
     "name": "stdout",
     "output_type": "stream",
     "text": [
      "Test RMSE: 6425.093100652846\n",
      "Test R2: 0.8824927057021127\n",
      "Predicted: 16605.396\n",
      "Actual: 15900.0\n",
      "\n",
      "Predicted: 22927.006\n",
      "Actual: 22995.0\n",
      "\n",
      "Predicted: 15526.051\n",
      "Actual: 12900.0\n",
      "\n",
      "Predicted: 18614.35\n",
      "Actual: 17900.0\n",
      "\n",
      "Predicted: 17623.904\n",
      "Actual: 16990.0\n",
      "\n",
      "Predicted: 30228.79\n",
      "Actual: 29900.0\n",
      "\n",
      "Predicted: 24526.395\n",
      "Actual: 26900.0\n",
      "\n",
      "Predicted: 46587.17\n",
      "Actual: 48990.0\n",
      "\n",
      "Predicted: 9252.441\n",
      "Actual: 9800.0\n",
      "\n",
      "Predicted: 4805.3457\n",
      "Actual: 5500.0\n",
      "\n",
      "Predicted: 10416.476\n",
      "Actual: 7900.0\n",
      "\n",
      "Predicted: 17079.002\n",
      "Actual: 16990.0\n",
      "\n",
      "Predicted: 50957.14\n",
      "Actual: 49990.0\n",
      "\n",
      "Predicted: 11560.29\n",
      "Actual: 9799.0\n",
      "\n",
      "Predicted: 20407.783\n",
      "Actual: 19950.0\n",
      "\n",
      "Predicted: 39501.324\n",
      "Actual: 36950.0\n",
      "\n",
      "Predicted: 26947.621\n",
      "Actual: 31500.0\n",
      "\n",
      "Predicted: 25554.217\n",
      "Actual: 23785.0\n",
      "\n",
      "Predicted: 73240.58\n",
      "Actual: 65500.0\n",
      "\n",
      "Predicted: 21928.037\n",
      "Actual: 17980.0\n"
     ]
    }
   ],
   "source": [
    "# Make predictions on the test set\n",
    "test_preds = grid_search.best_estimator_.predict(X_test)\n",
    "\n",
    "# Print regression metrics\n",
    "test_mse = mean_squared_error(y_test, test_preds)\n",
    "print('Test RMSE:', np.sqrt(test_mse))\n",
    "\n",
    "# r-squared\n",
    "r2 = r2_score(y_test, test_preds)\n",
    "print('Test R2:', r2)\n",
    "\n",
    "# Print the results on a few test set examples\n",
    "for i in range(20):\n",
    "    print('Predicted:', test_preds[i])\n",
    "    print('Actual:', y_test[i])\n",
    "    print()"
   ]
  },
  {
   "cell_type": "code",
   "execution_count": 16,
   "metadata": {},
   "outputs": [
    {
     "data": {
      "image/png": "[encoded data removed]",
      "text/plain": [
       "<Figure size 640x480 with 1 Axes>"
      ]
     },
     "metadata": {},
     "output_type": "display_data"
    }
   ],
   "source": [
    "# Plot a comparison of the actual and predicted prices\n",
    "plt.plot(y_test, label='Actual')\n",
    "plt.plot(test_preds, label='Predicted')\n",
    "plt.legend()\n",
    "plt.show()"
   ]
  },
  {
   "cell_type": "code",
   "execution_count": 17,
   "metadata": {},
   "outputs": [
    {
     "data": {
      "text/plain": [
       "['xgbr_price_predictor.pkl']"
      ]
     },
     "execution_count": 17,
     "metadata": {},
     "output_type": "execute_result"
    }
   ],
   "source": [
    "# Save the model\n",
    "joblib.dump(grid_search.best_estimator_, '../models/xgbr_price_predictor.pkl')"
   ]
  },
  {
   "cell_type": "code",
   "execution_count": 18,
   "metadata": {},
   "outputs": [
    {
     "data": {
      "text/plain": [
       "['feature_names.pkl']"
      ]
     },
     "execution_count": 18,
     "metadata": {},
     "output_type": "execute_result"
    }
   ],
   "source": [
    "# Save the feature names\n",
    "feature_names = X.columns.tolist()\n",
    "joblib.dump(feature_names, 'feature_names.pkl')"
   ]
  }
 ],
 "metadata": {
  "kernelspec": {
   "display_name": ".venv",
   "language": "python",
   "name": "python3"
  },
  "language_info": {
   "codemirror_mode": {
    "name": "ipython",
    "version": 3
   },
   "file_extension": ".py",
   "mimetype": "text/x-python",
   "name": "python",
   "nbconvert_exporter": "python",
   "pygments_lexer": "ipython3",
   "version": "3.11.5"
  }
 },
 "nbformat": 4,
 "nbformat_minor": 2
}
